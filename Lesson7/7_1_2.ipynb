{
  "nbformat": 4,
  "nbformat_minor": 0,
  "metadata": {
    "kernelspec": {
      "display_name": "Python 3",
      "language": "python",
      "name": "python3"
    },
    "language_info": {
      "codemirror_mode": {
        "name": "ipython",
        "version": 3
      },
      "file_extension": ".py",
      "mimetype": "text/x-python",
      "name": "python",
      "nbconvert_exporter": "python",
      "pygments_lexer": "ipython3",
      "version": "3.6.0"
    },
    "colab": {
      "name": "Копия 5.2.ipynb",
      "provenance": []
    }
  },
  "cells": [
    {
      "cell_type": "markdown",
      "metadata": {
        "collapsed": true,
        "id": "aiUjnNZ6Xje4",
        "colab_type": "text"
      },
      "source": [
        "## Матрицы и векторы\n",
        "### Определитель матрицы"
      ]
    },
    {
      "cell_type": "code",
      "metadata": {
        "id": "1wetMrpPXje9",
        "colab_type": "code",
        "colab": {}
      },
      "source": [
        "import numpy as np"
      ],
      "execution_count": 0,
      "outputs": []
    },
    {
      "cell_type": "markdown",
      "metadata": {
        "id": "Zq50qEF5XjfK",
        "colab_type": "text"
      },
      "source": [
        "## $\\det A = \\left|\n",
        "\\begin{array}{cccc}\n",
        "a_{00} & a_{01} & \\ldots & a_{0n}\\\\\n",
        "a_{10} & a_{11} & \\ldots & a_{1n}\\\\\n",
        "\\vdots & \\vdots & \\ddots & \\vdots\\\\\n",
        "a_{n0} & a_{n1} & \\ldots & a_{nn}\n",
        "\\end{array}\n",
        "\\right|= \\sum_{k=0}^{n} (-1)^{k+0}a_{0k}M_k^0$\n",
        "\n",
        "\n",
        "Минор элемента  $a_{ij}$ квадратной матрицы – это определитель этой матрицы, у которого отсутствует  i-я строка и  j-й столбец. "
      ]
    },
    {
      "cell_type": "code",
      "metadata": {
        "id": "joj8LtkUXjfO",
        "colab_type": "code",
        "outputId": "928067e9-8e5c-4ac4-afa2-775b0197ea7e",
        "colab": {}
      },
      "source": [
        "a = np.array([[1, 2], [3, 4]])\n",
        "print(a)\n",
        "a[0, 0] * a[1, 1] - a[0, 1] * a[1, 0] "
      ],
      "execution_count": 0,
      "outputs": [
        {
          "output_type": "stream",
          "text": [
            "[[1 2]\n",
            " [3 4]]\n"
          ],
          "name": "stdout"
        },
        {
          "output_type": "execute_result",
          "data": {
            "text/plain": [
              "-2"
            ]
          },
          "metadata": {
            "tags": []
          },
          "execution_count": 2
        }
      ]
    },
    {
      "cell_type": "code",
      "metadata": {
        "id": "miLXN4Z7Xjfb",
        "colab_type": "code",
        "outputId": "ba9150b5-cfb5-499c-e2df-300f4c0aa278",
        "colab": {}
      },
      "source": [
        "np.linalg.det(a)"
      ],
      "execution_count": 0,
      "outputs": [
        {
          "output_type": "execute_result",
          "data": {
            "text/plain": [
              "-2.0000000000000004"
            ]
          },
          "metadata": {
            "tags": []
          },
          "execution_count": 3
        }
      ]
    },
    {
      "cell_type": "code",
      "metadata": {
        "id": "iAyyMVQ0Xjfj",
        "colab_type": "code",
        "outputId": "d3a870ac-a104-40ad-e731-f4d08f60118f",
        "colab": {}
      },
      "source": [
        "b = np.array([[1, 2, 3], [4, 5, 6], [7, 8, 9]])\n",
        "np.linalg.det(b)"
      ],
      "execution_count": 0,
      "outputs": [
        {
          "output_type": "execute_result",
          "data": {
            "text/plain": [
              "6.6613381477509402e-16"
            ]
          },
          "metadata": {
            "tags": []
          },
          "execution_count": 4
        }
      ]
    },
    {
      "cell_type": "markdown",
      "metadata": {
        "collapsed": false,
        "id": "1nnV1V9ZXjft",
        "colab_type": "text"
      },
      "source": [
        "## $\\det A = \\left|\n",
        "\\begin{array}{cccc}\n",
        "1 & 2 & 3\\\\\n",
        "4 & 5 & 6\\\\\n",
        "7 & 8 & 9\n",
        "\\end{array}\n",
        "\\right|=\n",
        "1\\left| \n",
        "\\begin{array}{cccc}\n",
        "5 & 6\\\\ \n",
        "8 & 9\n",
        "\\end{array} \n",
        "\\right|\n",
        "-2\\left| \n",
        "\\begin{array}{cccc}\n",
        "4 & 6\\\\ \n",
        "7 & 9\n",
        "\\end{array} \n",
        "\\right|\n",
        "+3\\left| \n",
        "\\begin{array}{cccc}\n",
        "4 & 5\\\\ \n",
        "7 & 8\n",
        "\\end{array} \n",
        "\\right|=0\n",
        "$\n"
      ]
    },
    {
      "cell_type": "code",
      "metadata": {
        "id": "Q2agmHYtXjfv",
        "colab_type": "code",
        "outputId": "28180f09-5d11-4324-9029-1ff7b4692561",
        "colab": {}
      },
      "source": [
        "1 * (5 * 9 - 6 * 8) - 2 * (4 * 9 - 6 * 7) + 3 * (4 * 8 - 5 * 7)"
      ],
      "execution_count": 0,
      "outputs": [
        {
          "output_type": "execute_result",
          "data": {
            "text/plain": [
              "0"
            ]
          },
          "metadata": {
            "tags": []
          },
          "execution_count": 5
        }
      ]
    },
    {
      "cell_type": "markdown",
      "metadata": {
        "collapsed": false,
        "id": "cnXXPsCCXjf4",
        "colab_type": "text"
      },
      "source": [
        "## $\\det A = \\sum_{k=0}^{n} (-1)^{k+i}a_{ik}M_k^i =  \\sum_{k=0}^{n} a_{ik}A_{ik}$"
      ]
    },
    {
      "cell_type": "markdown",
      "metadata": {
        "collapsed": true,
        "id": "_n9r2txIXjf6",
        "colab_type": "text"
      },
      "source": [
        "### Свойства определителей\n",
        "1. Определитель не меняется при транспонировании.\n",
        "\n",
        "2. При перестановке двух соседних строк (столбцов) определитель меняет знак. \n",
        "\n",
        "3. Определитель с двумя одинаковыми строками (столбцами) равен нулю.\n",
        "\n",
        "4. Общий множитель строки (столбца) можно выносить за знак определителя.\n",
        "$\\begin{vmatrix} 1 & 4 & 2\\\\ 0 & 2 & 0\\\\ -7 & 14 & -7 \\end{vmatrix}=-7\\cdot \\begin{vmatrix} 1 & 4 & 2\\\\ 0 & 2 & 0\\\\ 1 & -2 & 1 \\end{vmatrix}= -14\\cdot \\begin{vmatrix} 1 & 2 & 2\\\\ 0 & 1 & 0\\\\ 1 & -1 & 1 \\end{vmatrix}$\n",
        "\n",
        "5. Если все элементы некоторой строки (столбца) равны нулю, то определитель равен нулю.\n",
        "\n",
        "6. Если все элементы двух строк (или двух столбцов) пропорциональны, то определитель равен нулю.\n",
        "\n",
        "7. Если к элементам некоторой строки (столбца) прибавить соответствующие элементы другой строки (столбца), предварительно умножив их на одно и то же отличное от нуля число, то определитель не изменится."
      ]
    },
    {
      "cell_type": "code",
      "metadata": {
        "id": "rdFYD-RiXjf-",
        "colab_type": "code",
        "outputId": "fb3fd96c-258c-4dcd-8417-00982810c1d5",
        "colab": {}
      },
      "source": [
        "np.linalg.det(b)"
      ],
      "execution_count": 0,
      "outputs": [
        {
          "output_type": "execute_result",
          "data": {
            "text/plain": [
              "6.6613381477509402e-16"
            ]
          },
          "metadata": {
            "tags": []
          },
          "execution_count": 7
        }
      ]
    },
    {
      "cell_type": "markdown",
      "metadata": {
        "id": "vAxmNDQoXjgG",
        "colab_type": "text"
      },
      "source": [
        "### Ранг матрицы\n",
        "Если из матрицы вычеркнуть M столбцов и М строк, то определитель оставшейся матрицы называют минором порядка М исходной матрицы. \n",
        "\n",
        "Рангом матрицы называют наибольший из порядков отличных от нуля ее миноров.\n"
      ]
    },
    {
      "cell_type": "code",
      "metadata": {
        "id": "TLA2u2uJXjgJ",
        "colab_type": "code",
        "outputId": "203dc64c-370e-4254-fe3b-4b1722d0fb5b",
        "colab": {}
      },
      "source": [
        "np.linalg.matrix_rank(b, 0.0001)"
      ],
      "execution_count": 0,
      "outputs": [
        {
          "output_type": "execute_result",
          "data": {
            "text/plain": [
              "2"
            ]
          },
          "metadata": {
            "tags": []
          },
          "execution_count": 8
        }
      ]
    },
    {
      "cell_type": "code",
      "metadata": {
        "id": "cOOFF4RyXjgR",
        "colab_type": "code",
        "outputId": "611d21e8-52d2-451e-b489-65c8cd8ec247",
        "colab": {}
      },
      "source": [
        "f = np.array([[1, 2, 3], [4, 5, 6], [0, 8, 9], [10, 0, 12]])\n",
        "print(f)\n",
        "np.linalg.matrix_rank(f, 0.0001)"
      ],
      "execution_count": 0,
      "outputs": [
        {
          "output_type": "stream",
          "text": [
            "[[ 1  2  3]\n",
            " [ 4  5  6]\n",
            " [ 0  8  9]\n",
            " [10  0 12]]\n"
          ],
          "name": "stdout"
        },
        {
          "output_type": "execute_result",
          "data": {
            "text/plain": [
              "3"
            ]
          },
          "metadata": {
            "tags": []
          },
          "execution_count": 10
        }
      ]
    },
    {
      "cell_type": "code",
      "metadata": {
        "id": "vUoA1qddXjgY",
        "colab_type": "code",
        "colab": {}
      },
      "source": [
        ""
      ],
      "execution_count": 0,
      "outputs": []
    }
  ]
}