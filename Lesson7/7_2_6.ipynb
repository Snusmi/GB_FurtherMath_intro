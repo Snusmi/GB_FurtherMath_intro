{
 "cells": [
  {
   "cell_type": "markdown",
   "metadata": {
    "colab_type": "text",
    "collapsed": true,
    "id": "U6kphHFKaYZp"
   },
   "source": [
    "### Матричные разложения "
   ]
  },
  {
   "cell_type": "code",
   "execution_count": 0,
   "metadata": {
    "colab": {},
    "colab_type": "code",
    "id": "TfjXGk9raYZt"
   },
   "outputs": [],
   "source": [
    "import numpy as np\n",
    "import matplotlib.pyplot as plt"
   ]
  },
  {
   "cell_type": "markdown",
   "metadata": {
    "colab_type": "text",
    "id": "Fs_bSSYTaYZ3"
   },
   "source": [
    "## $A\\cdot X = B$\n",
    "## QR - разложение\n",
    "## $A = Q\\cdot R$\n",
    "\n",
    "### Q - ортогональная матрица\n",
    "## $Q^T \\cdot Q  = I$\n",
    "## $|Q \\cdot X|  = |X|$\n",
    "### Идея ортогональных преобразований\n",
    "## $min ~|A \\cdot X - B|$ \n",
    "## $min ~|Q^T \\cdot (A \\cdot X - B)|$\n",
    "## $R = \\left(\n",
    "\\begin{array}{cccc}\n",
    "u_{00} & u_{01} & \\ldots & u_{0n}\\\\\n",
    "\\vdots & \\vdots & \\ddots & \\vdots\\\\\n",
    "0 & 0 & \\ldots & u_{n-1n}\\\\\n",
    "0 & 0 & \\ldots & u_{nn}\n",
    "\\end{array}\n",
    "\\right)$\n",
    "### для \"хороших\" СЛАУ:\n",
    "## $Q^T \\cdot A \\cdot X = Q^T \\cdot B$\n",
    "## $Q^T \\cdot Q \\cdot R \\cdot X = Q^T \\cdot B$\n",
    "## $R \\cdot X = Q^T \\cdot B$\n",
    "### для недоопределенных и вырожденных СЛАУ:\n",
    "## $R = \\left(\n",
    "\\begin{array}{cccc}\n",
    "R_1 & R_2\\\\\n",
    "0 & 0 \\end{array}\n",
    "\\right)$\n",
    "## $X = \\left(\n",
    "\\begin{array}{cccc}\n",
    "X_1 \\\\\n",
    "X_2 \\end{array}\n",
    "\\right)$\n",
    "## $R_1 \\cdot X_1 = Q^T \\cdot B - R_2 \\cdot X_2$"
   ]
  },
  {
   "cell_type": "code",
   "execution_count": 0,
   "metadata": {
    "colab": {},
    "colab_type": "code",
    "id": "r0nSj5yHaYZ5",
    "outputId": "801eb909-dde8-488a-e2f0-6ec1877fdde8"
   },
   "outputs": [
    {
     "name": "stdout",
     "output_type": "stream",
     "text": [
      "[[1 2 3]\n",
      " [4 5 6]\n",
      " [7 8 9]]\n",
      "[[-0.12309149  0.90453403  0.40824829]\n",
      " [-0.49236596  0.30151134 -0.81649658]\n",
      " [-0.86164044 -0.30151134  0.40824829]]\n",
      "[[ -8.12403840e+00  -9.60113630e+00  -1.10782342e+01]\n",
      " [  0.00000000e+00   9.04534034e-01   1.80906807e+00]\n",
      " [  0.00000000e+00   0.00000000e+00  -8.88178420e-16]]\n"
     ]
    }
   ],
   "source": [
    "A = np.array([ [1, 2, 3], [4, 5, 6], [7, 8, 9] ])\n",
    "B = np.array([6, 12, 24])\n",
    "Q, R = np.linalg.qr(A)\n",
    "\n",
    "print(A)\n",
    "print(Q)\n",
    "print(R)"
   ]
  },
  {
   "cell_type": "code",
   "execution_count": 0,
   "metadata": {
    "colab": {},
    "colab_type": "code",
    "id": "4ZHNfcgFaYbH",
    "outputId": "9ba7a7ab-bad4-4fc0-b5a1-e8b2165a309a"
   },
   "outputs": [
    {
     "name": "stdout",
     "output_type": "stream",
     "text": [
      "[[ 1.  2.  3.]\n",
      " [ 4.  5.  6.]\n",
      " [ 7.  8.  9.]]\n",
      "[[  1.00000000e+00  -2.22044605e-16   0.00000000e+00]\n",
      " [ -2.22044605e-16   1.00000000e+00   1.38777878e-17]\n",
      " [  0.00000000e+00   1.38777878e-17   1.00000000e+00]]\n"
     ]
    }
   ],
   "source": [
    "print(np.dot(Q, R))\n",
    "print(np.dot(np.transpose(Q), Q))"
   ]
  },
  {
   "cell_type": "code",
   "execution_count": 0,
   "metadata": {
    "colab": {},
    "colab_type": "code",
    "id": "F9mnzcmRaYbU",
    "outputId": "69eda21d-6bc8-452c-cb76-d3f478203a58"
   },
   "outputs": [
    {
     "data": {
      "text/plain": [
       "array([[-8.1240384 , -9.6011363 ],\n",
       "       [ 0.        ,  0.90453403]])"
      ]
     },
     "execution_count": 4,
     "metadata": {
      "tags": []
     },
     "output_type": "execute_result"
    }
   ],
   "source": [
    "R1 = R[:2, :2]\n",
    "R1"
   ]
  },
  {
   "cell_type": "code",
   "execution_count": 0,
   "metadata": {
    "colab": {},
    "colab_type": "code",
    "id": "9jfX8ikGaYbe",
    "outputId": "5e47b6a9-5ed2-418d-fab4-d8136231a587"
   },
   "outputs": [
    {
     "data": {
      "text/plain": [
       "array([-27.326311  ,   1.80906807])"
      ]
     },
     "execution_count": 5,
     "metadata": {
      "tags": []
     },
     "output_type": "execute_result"
    }
   ],
   "source": [
    "B1 = np.dot(np.transpose(Q), B)[:2]\n",
    "B1"
   ]
  },
  {
   "cell_type": "code",
   "execution_count": 0,
   "metadata": {
    "colab": {},
    "colab_type": "code",
    "id": "jJp-3e7NaYbm",
    "outputId": "77f7915a-a580-4a5f-ae0b-38a41f5f02e8"
   },
   "outputs": [
    {
     "data": {
      "text/plain": [
       "array([ 1.,  2.])"
      ]
     },
     "execution_count": 6,
     "metadata": {
      "tags": []
     },
     "output_type": "execute_result"
    }
   ],
   "source": [
    "X1 = np.linalg.solve(R1, B1)\n",
    "X1"
   ]
  },
  {
   "cell_type": "code",
   "execution_count": 0,
   "metadata": {
    "colab": {},
    "colab_type": "code",
    "id": "kadflFW-aYb4",
    "outputId": "b9216304-eb6e-4bdd-9c17-0bc8f2e1dcf4"
   },
   "outputs": [
    {
     "name": "stdout",
     "output_type": "stream",
     "text": [
      "[ 1.  2.  0.]\n"
     ]
    },
    {
     "data": {
      "text/plain": [
       "2.2360679774997911"
      ]
     },
     "execution_count": 7,
     "metadata": {
      "tags": []
     },
     "output_type": "execute_result"
    }
   ],
   "source": [
    "X = np.append(X1, 0)\n",
    "print (X)\n",
    "np.linalg.norm(X)"
   ]
  },
  {
   "cell_type": "code",
   "execution_count": 0,
   "metadata": {
    "colab": {},
    "colab_type": "code",
    "id": "EqfWxRRLaYb_",
    "outputId": "76e17279-ec16-4c95-80e3-26f804903959"
   },
   "outputs": [
    {
     "data": {
      "text/plain": [
       "2.4494897427831779"
      ]
     },
     "execution_count": 8,
     "metadata": {
      "tags": []
     },
     "output_type": "execute_result"
    }
   ],
   "source": [
    "np.linalg.norm(np.dot(A, X) - B)"
   ]
  },
  {
   "cell_type": "code",
   "execution_count": 0,
   "metadata": {
    "colab": {},
    "colab_type": "code",
    "id": "cHuPBVNaaYcI",
    "outputId": "239b055c-ccce-4f34-f615-f4630bb2886d"
   },
   "outputs": [
    {
     "data": {
      "text/plain": [
       "(1.8708286933869707, 2.4494897427831779)"
      ]
     },
     "execution_count": 9,
     "metadata": {
      "tags": []
     },
     "output_type": "execute_result"
    }
   ],
   "source": [
    "X = np.array([1.5, 1, 0.5])\n",
    "np.linalg.norm(X),  np.linalg.norm(np.dot(A, X) - B)      "
   ]
  },
  {
   "cell_type": "code",
   "execution_count": 0,
   "metadata": {
    "colab": {},
    "colab_type": "code",
    "id": "08OqEHPHaYcS"
   },
   "outputs": [],
   "source": []
  }
 ],
 "metadata": {
  "colab": {
   "name": "Copy of Копия 6-6.ipynb",
   "provenance": []
  },
  "kernelspec": {
   "display_name": "Python 3",
   "language": "python",
   "name": "python3"
  },
  "language_info": {
   "codemirror_mode": {
    "name": "ipython",
    "version": 3
   },
   "file_extension": ".py",
   "mimetype": "text/x-python",
   "name": "python",
   "nbconvert_exporter": "python",
   "pygments_lexer": "ipython3",
   "version": "3.7.5"
  }
 },
 "nbformat": 4,
 "nbformat_minor": 1
}
