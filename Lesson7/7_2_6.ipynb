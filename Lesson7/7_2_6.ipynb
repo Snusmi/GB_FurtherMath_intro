{
  "nbformat": 4,
  "nbformat_minor": 0,
  "metadata": {
    "kernelspec": {
      "display_name": "Python 3",
      "language": "python",
      "name": "python3"
    },
    "language_info": {
      "codemirror_mode": {
        "name": "ipython",
        "version": 3
      },
      "file_extension": ".py",
      "mimetype": "text/x-python",
      "name": "python",
      "nbconvert_exporter": "python",
      "pygments_lexer": "ipython3",
      "version": "3.6.0"
    },
    "colab": {
      "name": "Copy of Копия 6-6.ipynb",
      "provenance": []
    }
  },
  "cells": [
    {
      "cell_type": "markdown",
      "metadata": {
        "collapsed": true,
        "id": "U6kphHFKaYZp",
        "colab_type": "text"
      },
      "source": [
        "### Матричные разложения "
      ]
    },
    {
      "cell_type": "code",
      "metadata": {
        "id": "TfjXGk9raYZt",
        "colab_type": "code",
        "colab": {}
      },
      "source": [
        "import numpy as np\n",
        "import matplotlib.pyplot as plt"
      ],
      "execution_count": 0,
      "outputs": []
    },
    {
      "cell_type": "markdown",
      "metadata": {
        "id": "Fs_bSSYTaYZ3",
        "colab_type": "text"
      },
      "source": [
        "## $A\\cdot X = B$\n",
        "## QR - разложение\n",
        "## $A = Q\\cdot R$\n",
        "\n",
        "### Q - ортогональная матрица\n",
        "## $Q^T \\cdot Q  = I$\n",
        "## $|Q \\cdot X|  = |X|$\n",
        "### Идея ортогональных преобразований\n",
        "## $min ~|A \\cdot X - B|$ \n",
        "## $min ~|Q^T \\cdot (A \\cdot X - B)|$\n",
        "## $R = \\left(\n",
        "\\begin{array}{cccc}\n",
        "u_{00} & u_{01} & \\ldots & u_{0n}\\\\\n",
        "\\vdots & \\vdots & \\ddots & \\vdots\\\\\n",
        "0 & 0 & \\ldots & u_{n-1n}\\\\\n",
        "0 & 0 & \\ldots & u_{nn}\n",
        "\\end{array}\n",
        "\\right)$\n",
        "### для \"хороших\" СЛАУ:\n",
        "## $Q^T \\cdot A \\cdot X = Q^T \\cdot B$\n",
        "## $Q^T \\cdot Q \\cdot R \\cdot X = Q^T \\cdot B$\n",
        "## $R \\cdot X = Q^T \\cdot B$\n",
        "### для недоопределенных и вырожденных СЛАУ:\n",
        "## $R = \\left(\n",
        "\\begin{array}{cccc}\n",
        "R_1 & R_2\\\\\n",
        "0 & 0 \\end{array}\n",
        "\\right)$\n",
        "## $X = \\left(\n",
        "\\begin{array}{cccc}\n",
        "X_1 \\\\\n",
        "X_2 \\end{array}\n",
        "\\right)$\n",
        "## $R_1 \\cdot X_1 = Q^T \\cdot B - R_2 \\cdot X_2$"
      ]
    },
    {
      "cell_type": "code",
      "metadata": {
        "id": "r0nSj5yHaYZ5",
        "colab_type": "code",
        "outputId": "801eb909-dde8-488a-e2f0-6ec1877fdde8",
        "colab": {}
      },
      "source": [
        "A = np.array([ [1, 2, 3], [4, 5, 6], [7, 8, 9] ])\n",
        "B = np.array([6, 12, 24])\n",
        "Q, R = np.linalg.qr(A)\n",
        "\n",
        "print(A)\n",
        "print(Q)\n",
        "print(R)"
      ],
      "execution_count": 0,
      "outputs": [
        {
          "output_type": "stream",
          "text": [
            "[[1 2 3]\n",
            " [4 5 6]\n",
            " [7 8 9]]\n",
            "[[-0.12309149  0.90453403  0.40824829]\n",
            " [-0.49236596  0.30151134 -0.81649658]\n",
            " [-0.86164044 -0.30151134  0.40824829]]\n",
            "[[ -8.12403840e+00  -9.60113630e+00  -1.10782342e+01]\n",
            " [  0.00000000e+00   9.04534034e-01   1.80906807e+00]\n",
            " [  0.00000000e+00   0.00000000e+00  -8.88178420e-16]]\n"
          ],
          "name": "stdout"
        }
      ]
    },
    {
      "cell_type": "code",
      "metadata": {
        "id": "4ZHNfcgFaYbH",
        "colab_type": "code",
        "outputId": "9ba7a7ab-bad4-4fc0-b5a1-e8b2165a309a",
        "colab": {}
      },
      "source": [
        "print(np.dot(Q, R))\n",
        "print(np.dot(np.transpose(Q), Q))"
      ],
      "execution_count": 0,
      "outputs": [
        {
          "output_type": "stream",
          "text": [
            "[[ 1.  2.  3.]\n",
            " [ 4.  5.  6.]\n",
            " [ 7.  8.  9.]]\n",
            "[[  1.00000000e+00  -2.22044605e-16   0.00000000e+00]\n",
            " [ -2.22044605e-16   1.00000000e+00   1.38777878e-17]\n",
            " [  0.00000000e+00   1.38777878e-17   1.00000000e+00]]\n"
          ],
          "name": "stdout"
        }
      ]
    },
    {
      "cell_type": "code",
      "metadata": {
        "id": "F9mnzcmRaYbU",
        "colab_type": "code",
        "outputId": "69eda21d-6bc8-452c-cb76-d3f478203a58",
        "colab": {}
      },
      "source": [
        "R1 = R[:2, :2]\n",
        "R1"
      ],
      "execution_count": 0,
      "outputs": [
        {
          "output_type": "execute_result",
          "data": {
            "text/plain": [
              "array([[-8.1240384 , -9.6011363 ],\n",
              "       [ 0.        ,  0.90453403]])"
            ]
          },
          "metadata": {
            "tags": []
          },
          "execution_count": 4
        }
      ]
    },
    {
      "cell_type": "code",
      "metadata": {
        "id": "9jfX8ikGaYbe",
        "colab_type": "code",
        "outputId": "5e47b6a9-5ed2-418d-fab4-d8136231a587",
        "colab": {}
      },
      "source": [
        "B1 = np.dot(np.transpose(Q), B)[:2]\n",
        "B1"
      ],
      "execution_count": 0,
      "outputs": [
        {
          "output_type": "execute_result",
          "data": {
            "text/plain": [
              "array([-27.326311  ,   1.80906807])"
            ]
          },
          "metadata": {
            "tags": []
          },
          "execution_count": 5
        }
      ]
    },
    {
      "cell_type": "code",
      "metadata": {
        "id": "jJp-3e7NaYbm",
        "colab_type": "code",
        "outputId": "77f7915a-a580-4a5f-ae0b-38a41f5f02e8",
        "colab": {}
      },
      "source": [
        "X1 = np.linalg.solve(R1, B1)\n",
        "X1"
      ],
      "execution_count": 0,
      "outputs": [
        {
          "output_type": "execute_result",
          "data": {
            "text/plain": [
              "array([ 1.,  2.])"
            ]
          },
          "metadata": {
            "tags": []
          },
          "execution_count": 6
        }
      ]
    },
    {
      "cell_type": "code",
      "metadata": {
        "id": "kadflFW-aYb4",
        "colab_type": "code",
        "outputId": "b9216304-eb6e-4bdd-9c17-0bc8f2e1dcf4",
        "colab": {}
      },
      "source": [
        "X = np.append(X1, 0)\n",
        "print (X)\n",
        "np.linalg.norm(X)"
      ],
      "execution_count": 0,
      "outputs": [
        {
          "output_type": "stream",
          "text": [
            "[ 1.  2.  0.]\n"
          ],
          "name": "stdout"
        },
        {
          "output_type": "execute_result",
          "data": {
            "text/plain": [
              "2.2360679774997911"
            ]
          },
          "metadata": {
            "tags": []
          },
          "execution_count": 7
        }
      ]
    },
    {
      "cell_type": "code",
      "metadata": {
        "id": "EqfWxRRLaYb_",
        "colab_type": "code",
        "outputId": "76e17279-ec16-4c95-80e3-26f804903959",
        "colab": {}
      },
      "source": [
        "np.linalg.norm(np.dot(A, X) - B)"
      ],
      "execution_count": 0,
      "outputs": [
        {
          "output_type": "execute_result",
          "data": {
            "text/plain": [
              "2.4494897427831779"
            ]
          },
          "metadata": {
            "tags": []
          },
          "execution_count": 8
        }
      ]
    },
    {
      "cell_type": "code",
      "metadata": {
        "id": "cHuPBVNaaYcI",
        "colab_type": "code",
        "outputId": "239b055c-ccce-4f34-f615-f4630bb2886d",
        "colab": {}
      },
      "source": [
        "X = np.array([1.5, 1, 0.5])\n",
        "np.linalg.norm(X),  np.linalg.norm(np.dot(A, X) - B)      "
      ],
      "execution_count": 0,
      "outputs": [
        {
          "output_type": "execute_result",
          "data": {
            "text/plain": [
              "(1.8708286933869707, 2.4494897427831779)"
            ]
          },
          "metadata": {
            "tags": []
          },
          "execution_count": 9
        }
      ]
    },
    {
      "cell_type": "code",
      "metadata": {
        "id": "08OqEHPHaYcS",
        "colab_type": "code",
        "colab": {}
      },
      "source": [
        ""
      ],
      "execution_count": 0,
      "outputs": []
    }
  ]
}