{
  "nbformat": 4,
  "nbformat_minor": 0,
  "metadata": {
    "kernelspec": {
      "display_name": "Python 3",
      "language": "python",
      "name": "python3"
    },
    "language_info": {
      "codemirror_mode": {
        "name": "ipython",
        "version": 3
      },
      "file_extension": ".py",
      "mimetype": "text/x-python",
      "name": "python",
      "nbconvert_exporter": "python",
      "pygments_lexer": "ipython3",
      "version": "3.6.0"
    },
    "colab": {
      "name": "Копия 5.3.ipynb",
      "provenance": []
    }
  },
  "cells": [
    {
      "cell_type": "markdown",
      "metadata": {
        "collapsed": true,
        "id": "D6tQ8Uk0Xl5-",
        "colab_type": "text"
      },
      "source": [
        "## Матрицы и векторы\n",
        "### Определитель матрицы"
      ]
    },
    {
      "cell_type": "code",
      "metadata": {
        "id": "whFIYi9XXl6D",
        "colab_type": "code",
        "colab": {}
      },
      "source": [
        "import numpy as np"
      ],
      "execution_count": 0,
      "outputs": []
    },
    {
      "cell_type": "markdown",
      "metadata": {
        "id": "c3HGHFMzXl6K",
        "colab_type": "text"
      },
      "source": [
        "## $\\det A = \\left|\n",
        "\\begin{array}{cccc}\n",
        "a_{00} & a_{01} & \\ldots & a_{0n}\\\\\n",
        "a_{10} & a_{11} & \\ldots & a_{1n}\\\\\n",
        "\\vdots & \\vdots & \\ddots & \\vdots\\\\\n",
        "a_{n0} & a_{n1} & \\ldots & a_{nn}\n",
        "\\end{array}\n",
        "\\right|= \\sum_{k=0}^{n} (-1)^{k+0}a_{0k}M_k^0$\n",
        "\n",
        "\n",
        "Минор элемента  $a_{ij}$ квадратной матрицы – это определитель этой матрицы, у которого отсутствует  i-я строка и  j-й столбец. "
      ]
    },
    {
      "cell_type": "code",
      "metadata": {
        "id": "hcwFp9GTXl6M",
        "colab_type": "code",
        "outputId": "f22f1627-d1d8-47d2-8333-cd9929f17065",
        "colab": {}
      },
      "source": [
        "a = np.array([[1, 2], [3, 4]])\n",
        "print(a)\n",
        "a[0, 0] * a[1, 1] - a[0, 1] * a[1, 0] "
      ],
      "execution_count": 0,
      "outputs": [
        {
          "output_type": "stream",
          "text": [
            "[[1 2]\n",
            " [3 4]]\n"
          ],
          "name": "stdout"
        },
        {
          "output_type": "execute_result",
          "data": {
            "text/plain": [
              "-2"
            ]
          },
          "metadata": {
            "tags": []
          },
          "execution_count": 2
        }
      ]
    },
    {
      "cell_type": "code",
      "metadata": {
        "id": "75XjeipLXl6S",
        "colab_type": "code",
        "outputId": "9188c6cb-d4e0-4996-9467-0710e2b922f1",
        "colab": {}
      },
      "source": [
        "np.linalg.det(a)"
      ],
      "execution_count": 0,
      "outputs": [
        {
          "output_type": "execute_result",
          "data": {
            "text/plain": [
              "-2.0000000000000004"
            ]
          },
          "metadata": {
            "tags": []
          },
          "execution_count": 3
        }
      ]
    },
    {
      "cell_type": "code",
      "metadata": {
        "id": "WtXblV7GXl6Y",
        "colab_type": "code",
        "outputId": "b061b78f-aed4-43d6-ac82-7a2c407d798b",
        "colab": {}
      },
      "source": [
        "b = np.array([[1, 2, 3], [4, 5, 6], [7, 8, 9]])\n",
        "np.linalg.det(b)"
      ],
      "execution_count": 0,
      "outputs": [
        {
          "output_type": "execute_result",
          "data": {
            "text/plain": [
              "6.6613381477509402e-16"
            ]
          },
          "metadata": {
            "tags": []
          },
          "execution_count": 4
        }
      ]
    },
    {
      "cell_type": "markdown",
      "metadata": {
        "collapsed": false,
        "id": "5oBY9_e8Xl6e",
        "colab_type": "text"
      },
      "source": [
        "## $\\det A = \\left|\n",
        "\\begin{array}{cccc}\n",
        "1 & 2 & 3\\\\\n",
        "4 & 5 & 6\\\\\n",
        "7 & 8 & 9\n",
        "\\end{array}\n",
        "\\right|=\n",
        "1\\left| \n",
        "\\begin{array}{cccc}\n",
        "5 & 6\\\\ \n",
        "8 & 9\n",
        "\\end{array} \n",
        "\\right|\n",
        "-2\\left| \n",
        "\\begin{array}{cccc}\n",
        "4 & 6\\\\ \n",
        "7 & 9\n",
        "\\end{array} \n",
        "\\right|\n",
        "+3\\left| \n",
        "\\begin{array}{cccc}\n",
        "4 & 5\\\\ \n",
        "7 & 8\n",
        "\\end{array} \n",
        "\\right|=0\n",
        "$\n"
      ]
    },
    {
      "cell_type": "code",
      "metadata": {
        "id": "PSX8FyKqXl6g",
        "colab_type": "code",
        "outputId": "4018669f-01d9-4375-db51-386f5379fbed",
        "colab": {}
      },
      "source": [
        "1 * (5 * 9 - 6 * 8) - 2 * (4 * 9 - 6 * 7) + 3 * (4 * 8 - 5 * 7)"
      ],
      "execution_count": 0,
      "outputs": [
        {
          "output_type": "execute_result",
          "data": {
            "text/plain": [
              "0"
            ]
          },
          "metadata": {
            "tags": []
          },
          "execution_count": 5
        }
      ]
    },
    {
      "cell_type": "markdown",
      "metadata": {
        "collapsed": false,
        "id": "dMnnSL4xXl6m",
        "colab_type": "text"
      },
      "source": [
        "## $\\det A = \\sum_{k=0}^{n} (-1)^{k+i}a_{ik}M_k^i =  \\sum_{k=0}^{n} a_{ik}A_{ik}$"
      ]
    },
    {
      "cell_type": "markdown",
      "metadata": {
        "collapsed": true,
        "id": "EWkPrFRmXl6n",
        "colab_type": "text"
      },
      "source": [
        "### Свойства определителей\n",
        "1. Определитель не меняется при транспонировании.\n",
        "\n",
        "2. При перестановке двух соседних строк (столбцов) определитель меняет знак. \n",
        "\n",
        "3. Определитель с двумя одинаковыми строками (столбцами) равен нулю.\n",
        "\n",
        "4. Общий множитель строки (столбца) можно выносить за знак определителя.\n",
        "$\\begin{vmatrix} 1 & 4 & 2\\\\ 0 & 2 & 0\\\\ -7 & 14 & -7 \\end{vmatrix}=-7\\cdot \\begin{vmatrix} 1 & 4 & 2\\\\ 0 & 2 & 0\\\\ 1 & -2 & 1 \\end{vmatrix}= -14\\cdot \\begin{vmatrix} 1 & 2 & 2\\\\ 0 & 1 & 0\\\\ 1 & -1 & 1 \\end{vmatrix}$\n",
        "\n",
        "5. Если все элементы некоторой строки (столбца) равны нулю, то определитель равен нулю.\n",
        "\n",
        "6. Если все элементы двух строк (или двух столбцов) пропорциональны, то определитель равен нулю.\n",
        "\n",
        "7. Если к элементам некоторой строки (столбца) прибавить соответствующие элементы другой строки (столбца), предварительно умножив их на одно и то же отличное от нуля число, то определитель не изменится."
      ]
    },
    {
      "cell_type": "code",
      "metadata": {
        "id": "Hth-KkUSXl6p",
        "colab_type": "code",
        "outputId": "eb9fe38c-2320-4219-d285-eda929451d70",
        "colab": {}
      },
      "source": [
        "np.linalg.det(b)"
      ],
      "execution_count": 0,
      "outputs": [
        {
          "output_type": "execute_result",
          "data": {
            "text/plain": [
              "6.6613381477509402e-16"
            ]
          },
          "metadata": {
            "tags": []
          },
          "execution_count": 7
        }
      ]
    },
    {
      "cell_type": "markdown",
      "metadata": {
        "id": "eNTVSq-lXl6u",
        "colab_type": "text"
      },
      "source": [
        "### Ранг матрицы\n",
        "Если из матрицы вычеркнуть M столбцов и М строк, то определитель оставшейся матрицы называют минором порядка М исходной матрицы. \n",
        "\n",
        "Рангом матрицы называют наибольший из порядков отличных от нуля ее миноров.\n"
      ]
    },
    {
      "cell_type": "code",
      "metadata": {
        "id": "OIte7t09Xl6w",
        "colab_type": "code",
        "outputId": "e6670999-b71d-4151-ebfb-d3502a3444a1",
        "colab": {}
      },
      "source": [
        "np.linalg.matrix_rank(b, 0.0001)"
      ],
      "execution_count": 0,
      "outputs": [
        {
          "output_type": "execute_result",
          "data": {
            "text/plain": [
              "2"
            ]
          },
          "metadata": {
            "tags": []
          },
          "execution_count": 8
        }
      ]
    },
    {
      "cell_type": "code",
      "metadata": {
        "id": "n8VKUL0sXl7T",
        "colab_type": "code",
        "outputId": "a4c15f51-c6dd-49c4-db29-e87b22580840",
        "colab": {}
      },
      "source": [
        "f = np.array([[1, 2, 3], [4, 5, 6], [0, 8, 9], [10, 0, 12]])\n",
        "print(f)\n",
        "np.linalg.matrix_rank(f, 0.0001)"
      ],
      "execution_count": 0,
      "outputs": [
        {
          "output_type": "stream",
          "text": [
            "[[ 1  2  3]\n",
            " [ 4  5  6]\n",
            " [ 0  8  9]\n",
            " [10  0 12]]\n"
          ],
          "name": "stdout"
        },
        {
          "output_type": "execute_result",
          "data": {
            "text/plain": [
              "3"
            ]
          },
          "metadata": {
            "tags": []
          },
          "execution_count": 10
        }
      ]
    },
    {
      "cell_type": "code",
      "metadata": {
        "id": "GJnQ2qXeXl7Y",
        "colab_type": "code",
        "colab": {}
      },
      "source": [
        ""
      ],
      "execution_count": 0,
      "outputs": []
    }
  ]
}