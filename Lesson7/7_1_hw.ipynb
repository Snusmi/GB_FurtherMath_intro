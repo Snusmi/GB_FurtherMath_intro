{
 "cells": [
  {
   "cell_type": "markdown",
   "metadata": {
    "colab_type": "text",
    "collapsed": true,
    "id": "Vvf5xo1KY-vu"
   },
   "source": [
    "### 5.1"
   ]
  },
  {
   "cell_type": "code",
   "execution_count": 0,
   "metadata": {
    "colab": {},
    "colab_type": "code",
    "id": "mcSFEW4LY-v5"
   },
   "outputs": [],
   "source": [
    "import numpy as np"
   ]
  },
  {
   "cell_type": "code",
   "execution_count": 0,
   "metadata": {
    "colab": {},
    "colab_type": "code",
    "id": "sFmPeTsXY-wN",
    "outputId": "5590526f-4ccf-479c-f9fc-23b3d60d504b"
   },
   "outputs": [
    {
     "name": "stdout",
     "output_type": "stream",
     "text": [
      "[ 1.  2.  3.]\n"
     ]
    }
   ],
   "source": [
    "a = np.array([1, 2, 3], float)\n",
    "print(a)"
   ]
  },
  {
   "cell_type": "code",
   "execution_count": 0,
   "metadata": {
    "colab": {},
    "colab_type": "code",
    "id": "9ufT5UgMY-we",
    "outputId": "82d1c8a3-eea0-464e-fcc0-9fbba412f512"
   },
   "outputs": [
    {
     "name": "stdout",
     "output_type": "stream",
     "text": [
      "2.0\n"
     ]
    }
   ],
   "source": [
    "print(a[1])"
   ]
  },
  {
   "cell_type": "code",
   "execution_count": 0,
   "metadata": {
    "colab": {},
    "colab_type": "code",
    "id": "ejuCYNSmY-ww",
    "outputId": "d42e48fa-304e-448f-f213-34c1e84c7a15"
   },
   "outputs": [
    {
     "name": "stdout",
     "output_type": "stream",
     "text": [
      "(3,)\n"
     ]
    }
   ],
   "source": [
    "print(a.shape)"
   ]
  },
  {
   "cell_type": "code",
   "execution_count": 0,
   "metadata": {
    "colab": {},
    "colab_type": "code",
    "id": "jJz--1jGY-w_",
    "outputId": "2034c298-11d7-4d42-a087-d391a33c576f"
   },
   "outputs": [
    {
     "name": "stdout",
     "output_type": "stream",
     "text": [
      "[ 2.  4.  6.]\n"
     ]
    }
   ],
   "source": [
    "b = a * 2\n",
    "print(b)"
   ]
  },
  {
   "cell_type": "code",
   "execution_count": 0,
   "metadata": {
    "colab": {},
    "colab_type": "code",
    "id": "eqIxIzEaY-xO",
    "outputId": "c7e0d87c-c4fc-4005-cbff-d2a805722a94"
   },
   "outputs": [
    {
     "name": "stdout",
     "output_type": "stream",
     "text": [
      "[ 2.  3.  4.]\n"
     ]
    }
   ],
   "source": [
    "c = a + 1\n",
    "print(c)"
   ]
  },
  {
   "cell_type": "code",
   "execution_count": 0,
   "metadata": {
    "colab": {},
    "colab_type": "code",
    "id": "inNwDHDXY-xb",
    "outputId": "d9d0c535-60b2-48e5-a2cd-1d796715bae5"
   },
   "outputs": [
    {
     "name": "stdout",
     "output_type": "stream",
     "text": [
      "[  4.   7.  10.]\n"
     ]
    }
   ],
   "source": [
    "d = c + b\n",
    "print(d)"
   ]
  },
  {
   "cell_type": "code",
   "execution_count": 0,
   "metadata": {
    "colab": {},
    "colab_type": "code",
    "id": "mRzuUuNFY-xt",
    "outputId": "44e37282-8cb4-455d-fc3b-3c5d4ed93163"
   },
   "outputs": [
    {
     "name": "stdout",
     "output_type": "stream",
     "text": [
      "[ 0.  1.  2.]\n"
     ]
    }
   ],
   "source": [
    "d = np.subtract(b, c)\n",
    "print(d)"
   ]
  },
  {
   "cell_type": "code",
   "execution_count": 0,
   "metadata": {
    "colab": {},
    "colab_type": "code",
    "id": "C5RXtg7LY-yA",
    "outputId": "38eb140a-46ee-4eef-c4ff-3bcdf2f54707"
   },
   "outputs": [
    {
     "name": "stdout",
     "output_type": "stream",
     "text": [
      "[ 0.  1.  2.]\n"
     ]
    }
   ],
   "source": [
    "print(b - c)"
   ]
  },
  {
   "cell_type": "code",
   "execution_count": 0,
   "metadata": {
    "colab": {},
    "colab_type": "code",
    "id": "csXuDldEY-yN",
    "outputId": "ebf4665d-2501-40b4-fcac-2af7bb2ad77a"
   },
   "outputs": [
    {
     "name": "stdout",
     "output_type": "stream",
     "text": [
      "[ 0.  1.  2.]\n",
      "\n",
      "[ 0.  1.  2.]\n"
     ]
    }
   ],
   "source": [
    "f = d.transpose()\n",
    "print(d)\n",
    "\n",
    "print(\"\")\n",
    "print(f)"
   ]
  },
  {
   "cell_type": "code",
   "execution_count": 0,
   "metadata": {
    "colab": {},
    "colab_type": "code",
    "id": "ESEOwXiRY-y4",
    "outputId": "a38b981a-0b4b-4133-cc06-9c566bbdb119"
   },
   "outputs": [
    {
     "data": {
      "text/plain": [
       "5.0"
      ]
     },
     "execution_count": 11,
     "metadata": {
      "tags": []
     },
     "output_type": "execute_result"
    }
   ],
   "source": [
    "i = 2\n",
    "d[0] * f[0] + d[1] * f[1] + d[2] * f[2]"
   ]
  },
  {
   "cell_type": "code",
   "execution_count": 0,
   "metadata": {
    "colab": {},
    "colab_type": "code",
    "id": "htTVnX4VY-zF",
    "outputId": "626f70cb-e968-4259-9795-72960c643acd"
   },
   "outputs": [
    {
     "name": "stdout",
     "output_type": "stream",
     "text": [
      "5.0\n",
      "5.0\n"
     ]
    },
    {
     "data": {
      "text/plain": [
       "((3,), (3,))"
      ]
     },
     "execution_count": 12,
     "metadata": {
      "tags": []
     },
     "output_type": "execute_result"
    }
   ],
   "source": [
    "g = np.dot(f, d)\n",
    "print(g)\n",
    "print(np.dot(d, f))\n",
    "d.shape, f.shape"
   ]
  },
  {
   "cell_type": "code",
   "execution_count": 0,
   "metadata": {
    "colab": {},
    "colab_type": "code",
    "id": "-nqDGIfGY-0L",
    "outputId": "c9a02d75-9fab-4573-f9ce-dedf12443e80"
   },
   "outputs": [
    {
     "data": {
      "text/plain": [
       "array([ 0.,  1.,  4.])"
      ]
     },
     "execution_count": 13,
     "metadata": {
      "tags": []
     },
     "output_type": "execute_result"
    }
   ],
   "source": [
    "f * d"
   ]
  },
  {
   "cell_type": "code",
   "execution_count": 0,
   "metadata": {
    "colab": {},
    "colab_type": "code",
    "id": "LvtYKuezY-0Y",
    "outputId": "197a0a97-6894-4c15-a931-bff36566a05a"
   },
   "outputs": [
    {
     "data": {
      "text/plain": [
       "array([ 0.,  1.,  4.])"
      ]
     },
     "execution_count": 14,
     "metadata": {
      "tags": []
     },
     "output_type": "execute_result"
    }
   ],
   "source": [
    "d * f"
   ]
  },
  {
   "cell_type": "code",
   "execution_count": 0,
   "metadata": {
    "colab": {},
    "colab_type": "code",
    "id": "mFN7YcBzY-0h",
    "outputId": "21462a09-9dcc-4018-afa4-dc91739698e3"
   },
   "outputs": [
    {
     "name": "stdout",
     "output_type": "stream",
     "text": [
      "[[ 1.  2.  3.]]\n",
      "[[ 1.]\n",
      " [ 2.]\n",
      " [ 3.]]\n"
     ]
    }
   ],
   "source": [
    "a = np.array([[1, 2, 3]], float)\n",
    "print(a)\n",
    "b = a.transpose()\n",
    "print(b)"
   ]
  },
  {
   "cell_type": "code",
   "execution_count": 0,
   "metadata": {
    "colab": {},
    "colab_type": "code",
    "id": "e6rS7pO7Y-1Y",
    "outputId": "5e31ce1f-0eb0-429c-a54d-c7baa98b4c78"
   },
   "outputs": [
    {
     "data": {
      "text/plain": [
       "array([[ 14.]])"
      ]
     },
     "execution_count": 16,
     "metadata": {
      "tags": []
     },
     "output_type": "execute_result"
    }
   ],
   "source": [
    "c = np.dot(a, b)\n",
    "c"
   ]
  },
  {
   "cell_type": "code",
   "execution_count": 0,
   "metadata": {
    "colab": {},
    "colab_type": "code",
    "id": "cToOK1mFY-1f",
    "outputId": "deb93683-14c7-41c8-fcbe-e780a7e9557d"
   },
   "outputs": [
    {
     "data": {
      "text/plain": [
       "array([[ 1.,  2.,  3.],\n",
       "       [ 2.,  4.,  6.],\n",
       "       [ 3.,  6.,  9.]])"
      ]
     },
     "execution_count": 17,
     "metadata": {
      "tags": []
     },
     "output_type": "execute_result"
    }
   ],
   "source": [
    "np.dot(b, a)"
   ]
  },
  {
   "cell_type": "code",
   "execution_count": 0,
   "metadata": {
    "colab": {},
    "colab_type": "code",
    "id": "gBHLroMIY-1m",
    "outputId": "0149bc67-dea4-4c01-9cfd-dc8ebc14c220"
   },
   "outputs": [
    {
     "data": {
      "text/plain": [
       "((1, 3), (3, 1), (1, 1))"
      ]
     },
     "execution_count": 18,
     "metadata": {
      "tags": []
     },
     "output_type": "execute_result"
    }
   ],
   "source": [
    "a.shape, b.shape, c.shape"
   ]
  },
  {
   "cell_type": "markdown",
   "metadata": {
    "colab_type": "text",
    "id": "h_AxsBpdY-1v"
   },
   "source": [
    "### $5E =\n",
    "5\\begin{pmatrix}\n",
    "1 & 0 & 0 & 0 & 0\\\\\n",
    "0 & 1 & 0 & 0 & 0\\\\\n",
    "0 & 0 & 1 & 0 & 0\\\\\n",
    "0 & 0 & 0 & 1 & 0\\\\\n",
    "0 & 0 & 0 & 0 & 1\n",
    "\\end{pmatrix}\n",
    "$\n",
    "### $(5E)^{-1} =\n",
    "{1/5}\\begin{pmatrix}\n",
    "1 & 0 & 0 & 0 & 0\\\\\n",
    "0 & 1 & 0 & 0 & 0\\\\\n",
    "0 & 0 & 1 & 0 & 0\\\\\n",
    "0 & 0 & 0 & 1 & 0\\\\\n",
    "0 & 0 & 0 & 0 & 1\n",
    "\\end{pmatrix} \n",
    "$"
   ]
  },
  {
   "cell_type": "code",
   "execution_count": 0,
   "metadata": {
    "colab": {},
    "colab_type": "code",
    "id": "b5MZ8Z3FY-1y",
    "outputId": "76b961cf-9334-43b6-b646-5bc68b57fa4e"
   },
   "outputs": [
    {
     "name": "stdout",
     "output_type": "stream",
     "text": [
      "[[ 5.  0.  0.  0.  0.]\n",
      " [ 0.  5.  0.  0.  0.]\n",
      " [ 0.  0.  5.  0.  0.]\n",
      " [ 0.  0.  0.  5.  0.]\n",
      " [ 0.  0.  0.  0.  5.]]\n"
     ]
    }
   ],
   "source": [
    "A = 5 * np.identity(5)\n",
    "print(A)"
   ]
  },
  {
   "cell_type": "code",
   "execution_count": 0,
   "metadata": {
    "colab": {},
    "colab_type": "code",
    "id": "05pugIxYY-18",
    "outputId": "437133e0-db5d-4b77-8081-a07c94485461"
   },
   "outputs": [
    {
     "name": "stdout",
     "output_type": "stream",
     "text": [
      "[[ 0.2  0.   0.   0.   0. ]\n",
      " [ 0.   0.2  0.   0.   0. ]\n",
      " [ 0.   0.   0.2  0.   0. ]\n",
      " [ 0.   0.   0.   0.2  0. ]\n",
      " [ 0.   0.   0.   0.   0.2]]\n"
     ]
    }
   ],
   "source": [
    "P = np.linalg.inv(A)\n",
    "print(P)"
   ]
  },
  {
   "cell_type": "markdown",
   "metadata": {
    "colab_type": "text",
    "id": "IjZzYBmzY-2J"
   },
   "source": [
    "### 5.2"
   ]
  },
  {
   "cell_type": "code",
   "execution_count": 0,
   "metadata": {
    "colab": {},
    "colab_type": "code",
    "id": "zaIMNPFkY-2M",
    "outputId": "5ab8b01a-a60a-477d-b07b-e72948ee9ddd"
   },
   "outputs": [
    {
     "name": "stdout",
     "output_type": "stream",
     "text": [
      "[[ 1.  2.  3.]\n",
      " [ 4.  0.  6.]\n",
      " [ 7.  8.  9.]]\n"
     ]
    },
    {
     "data": {
      "text/plain": [
       "59.999999999999986"
      ]
     },
     "execution_count": 21,
     "metadata": {
      "tags": []
     },
     "output_type": "execute_result"
    }
   ],
   "source": [
    "a = np.array([[1, 2, 3], [4, 0, 6], [7, 8, 9]], float)\n",
    "print(a)\n",
    "np.linalg.det(a)"
   ]
  },
  {
   "cell_type": "code",
   "execution_count": 0,
   "metadata": {
    "colab": {},
    "colab_type": "code",
    "id": "08TM0jPaY-2V",
    "outputId": "f76bbf3e-906b-46bf-c870-f4011ec34503"
   },
   "outputs": [
    {
     "data": {
      "text/plain": [
       "60"
      ]
     },
     "execution_count": 22,
     "metadata": {
      "tags": []
     },
     "output_type": "execute_result"
    }
   ],
   "source": [
    "4 * 8 * 3 + 2 * 6 * 7 - 6 * 8 * 1 - 2 * 4 * 9"
   ]
  },
  {
   "cell_type": "markdown",
   "metadata": {
    "colab_type": "text",
    "id": "chfhFfmmY-2d"
   },
   "source": [
    "### 5.3"
   ]
  },
  {
   "cell_type": "code",
   "execution_count": 0,
   "metadata": {
    "colab": {},
    "colab_type": "code",
    "id": "p5Xy5HSXY-2f",
    "outputId": "0b7f43bb-2ee8-42a9-ae04-fc90815f75b3"
   },
   "outputs": [
    {
     "data": {
      "text/plain": [
       "array([[-0.8       ,  0.1       ,  0.2       ],\n",
       "       [ 0.1       , -0.2       ,  0.1       ],\n",
       "       [ 0.53333333,  0.1       , -0.13333333]])"
      ]
     },
     "execution_count": 23,
     "metadata": {
      "tags": []
     },
     "output_type": "execute_result"
    }
   ],
   "source": [
    "np.linalg.inv(a)"
   ]
  },
  {
   "cell_type": "code",
   "execution_count": 0,
   "metadata": {
    "colab": {},
    "colab_type": "code",
    "id": "pYaUGMPPY-2n",
    "outputId": "1c6e101c-b970-4526-83b2-5053e5c4cfaa"
   },
   "outputs": [
    {
     "name": "stdout",
     "output_type": "stream",
     "text": [
      "[[ 1.  1.  1.  1.]\n",
      " [ 1.  1.  1.  1.]\n",
      " [ 1.  1.  1.  1.]\n",
      " [ 1.  1.  1.  1.]]\n"
     ]
    },
    {
     "data": {
      "text/plain": [
       "1"
      ]
     },
     "execution_count": 24,
     "metadata": {
      "tags": []
     },
     "output_type": "execute_result"
    }
   ],
   "source": [
    "c = np.array([[1, 1, 1, 1], [1, 1, 1, 1], [1, 1, 1, 1], [1, 1, 1, 1]], float)\n",
    "print(c)\n",
    "np.linalg.matrix_rank(b, 0.0001)"
   ]
  },
  {
   "cell_type": "code",
   "execution_count": 0,
   "metadata": {
    "colab": {},
    "colab_type": "code",
    "id": "oZQ1otg1Y-2v",
    "outputId": "48754e60-a564-485e-d296-d45b3036e640"
   },
   "outputs": [
    {
     "data": {
      "text/plain": [
       "3"
      ]
     },
     "execution_count": 25,
     "metadata": {
      "tags": []
     },
     "output_type": "execute_result"
    }
   ],
   "source": [
    "np.linalg.matrix_rank(a, 0.0001)"
   ]
  },
  {
   "cell_type": "markdown",
   "metadata": {
    "colab_type": "text",
    "id": "H0jTMLKAY-22"
   },
   "source": [
    "### 5.4"
   ]
  },
  {
   "cell_type": "code",
   "execution_count": 0,
   "metadata": {
    "colab": {},
    "colab_type": "code",
    "id": "3vL2CJW-Y-24",
    "outputId": "1dccd5a1-22f3-4376-c733-27ece1d90c1d"
   },
   "outputs": [
    {
     "data": {
      "text/plain": [
       "42"
      ]
     },
     "execution_count": 26,
     "metadata": {
      "tags": []
     },
     "output_type": "execute_result"
    }
   ],
   "source": [
    "f = np.array([1, 5])\n",
    "d = np.array([2, 8])\n",
    "np.dot(f, d)"
   ]
  },
  {
   "cell_type": "code",
   "execution_count": 0,
   "metadata": {
    "colab": {},
    "colab_type": "code",
    "id": "OFLK2qGNY-3B",
    "outputId": "f6a71734-e15d-4a8a-f7c2-2af0d88584f6"
   },
   "outputs": [
    {
     "data": {
      "text/plain": [
       "42"
      ]
     },
     "execution_count": 27,
     "metadata": {
      "tags": []
     },
     "output_type": "execute_result"
    }
   ],
   "source": [
    "np.dot(d, f)"
   ]
  },
  {
   "cell_type": "markdown",
   "metadata": {
    "colab_type": "text",
    "id": "dDUf_1HtY-3I"
   },
   "source": [
    "### 5.5"
   ]
  },
  {
   "cell_type": "code",
   "execution_count": 0,
   "metadata": {
    "colab": {},
    "colab_type": "code",
    "id": "pT8wW-dPY-3K",
    "outputId": "80bc56d5-0f2d-43b3-cdad-5aea710f0101"
   },
   "outputs": [
    {
     "name": "stdout",
     "output_type": "stream",
     "text": [
      "228.5\n",
      "228.5\n"
     ]
    }
   ],
   "source": [
    "a = np.array([1, 5, 0])\n",
    "b = np.array([2, 8, 7])\n",
    "c = np.array([7, 1.5, 3])\n",
    "v = np.cross(a, b)\n",
    "print (np.inner(v, c))\n",
    "w = np.cross(b, c)\n",
    "print (np.inner(w, a))"
   ]
  },
  {
   "cell_type": "code",
   "execution_count": 0,
   "metadata": {
    "colab": {},
    "colab_type": "code",
    "id": "SIsemZnkY-3S"
   },
   "outputs": [],
   "source": []
  }
 ],
 "metadata": {
  "colab": {
   "name": "Копия 5-hw.ipynb",
   "provenance": []
  },
  "kernelspec": {
   "display_name": "Python 3",
   "language": "python",
   "name": "python3"
  },
  "language_info": {
   "codemirror_mode": {
    "name": "ipython",
    "version": 3
   },
   "file_extension": ".py",
   "mimetype": "text/x-python",
   "name": "python",
   "nbconvert_exporter": "python",
   "pygments_lexer": "ipython3",
   "version": "3.7.5"
  }
 },
 "nbformat": 4,
 "nbformat_minor": 1
}
