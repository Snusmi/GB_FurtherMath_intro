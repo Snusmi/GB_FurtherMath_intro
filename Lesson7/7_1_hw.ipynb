{
  "nbformat": 4,
  "nbformat_minor": 0,
  "metadata": {
    "kernelspec": {
      "display_name": "Python 3",
      "language": "python",
      "name": "python3"
    },
    "language_info": {
      "codemirror_mode": {
        "name": "ipython",
        "version": 3
      },
      "file_extension": ".py",
      "mimetype": "text/x-python",
      "name": "python",
      "nbconvert_exporter": "python",
      "pygments_lexer": "ipython3",
      "version": "3.6.0"
    },
    "colab": {
      "name": "Копия 5-hw.ipynb",
      "provenance": []
    }
  },
  "cells": [
    {
      "cell_type": "markdown",
      "metadata": {
        "collapsed": true,
        "id": "Vvf5xo1KY-vu",
        "colab_type": "text"
      },
      "source": [
        "### 5.1"
      ]
    },
    {
      "cell_type": "code",
      "metadata": {
        "id": "mcSFEW4LY-v5",
        "colab_type": "code",
        "colab": {}
      },
      "source": [
        "import numpy as np"
      ],
      "execution_count": 0,
      "outputs": []
    },
    {
      "cell_type": "code",
      "metadata": {
        "id": "sFmPeTsXY-wN",
        "colab_type": "code",
        "outputId": "5590526f-4ccf-479c-f9fc-23b3d60d504b",
        "colab": {}
      },
      "source": [
        "a = np.array([1, 2, 3], float)\n",
        "print(a)"
      ],
      "execution_count": 0,
      "outputs": [
        {
          "output_type": "stream",
          "text": [
            "[ 1.  2.  3.]\n"
          ],
          "name": "stdout"
        }
      ]
    },
    {
      "cell_type": "code",
      "metadata": {
        "id": "9ufT5UgMY-we",
        "colab_type": "code",
        "outputId": "82d1c8a3-eea0-464e-fcc0-9fbba412f512",
        "colab": {}
      },
      "source": [
        "print(a[1])"
      ],
      "execution_count": 0,
      "outputs": [
        {
          "output_type": "stream",
          "text": [
            "2.0\n"
          ],
          "name": "stdout"
        }
      ]
    },
    {
      "cell_type": "code",
      "metadata": {
        "id": "ejuCYNSmY-ww",
        "colab_type": "code",
        "outputId": "d42e48fa-304e-448f-f213-34c1e84c7a15",
        "colab": {}
      },
      "source": [
        "print(a.shape)"
      ],
      "execution_count": 0,
      "outputs": [
        {
          "output_type": "stream",
          "text": [
            "(3,)\n"
          ],
          "name": "stdout"
        }
      ]
    },
    {
      "cell_type": "code",
      "metadata": {
        "id": "jJz--1jGY-w_",
        "colab_type": "code",
        "outputId": "2034c298-11d7-4d42-a087-d391a33c576f",
        "colab": {}
      },
      "source": [
        "b = a * 2\n",
        "print(b)"
      ],
      "execution_count": 0,
      "outputs": [
        {
          "output_type": "stream",
          "text": [
            "[ 2.  4.  6.]\n"
          ],
          "name": "stdout"
        }
      ]
    },
    {
      "cell_type": "code",
      "metadata": {
        "id": "eqIxIzEaY-xO",
        "colab_type": "code",
        "outputId": "c7e0d87c-c4fc-4005-cbff-d2a805722a94",
        "colab": {}
      },
      "source": [
        "c = a + 1\n",
        "print(c)"
      ],
      "execution_count": 0,
      "outputs": [
        {
          "output_type": "stream",
          "text": [
            "[ 2.  3.  4.]\n"
          ],
          "name": "stdout"
        }
      ]
    },
    {
      "cell_type": "code",
      "metadata": {
        "id": "inNwDHDXY-xb",
        "colab_type": "code",
        "outputId": "d9d0c535-60b2-48e5-a2cd-1d796715bae5",
        "colab": {}
      },
      "source": [
        "d = c + b\n",
        "print(d)"
      ],
      "execution_count": 0,
      "outputs": [
        {
          "output_type": "stream",
          "text": [
            "[  4.   7.  10.]\n"
          ],
          "name": "stdout"
        }
      ]
    },
    {
      "cell_type": "code",
      "metadata": {
        "id": "mRzuUuNFY-xt",
        "colab_type": "code",
        "outputId": "44e37282-8cb4-455d-fc3b-3c5d4ed93163",
        "colab": {}
      },
      "source": [
        "d = np.subtract(b, c)\n",
        "print(d)"
      ],
      "execution_count": 0,
      "outputs": [
        {
          "output_type": "stream",
          "text": [
            "[ 0.  1.  2.]\n"
          ],
          "name": "stdout"
        }
      ]
    },
    {
      "cell_type": "code",
      "metadata": {
        "id": "C5RXtg7LY-yA",
        "colab_type": "code",
        "outputId": "38eb140a-46ee-4eef-c4ff-3bcdf2f54707",
        "colab": {}
      },
      "source": [
        "print(b - c)"
      ],
      "execution_count": 0,
      "outputs": [
        {
          "output_type": "stream",
          "text": [
            "[ 0.  1.  2.]\n"
          ],
          "name": "stdout"
        }
      ]
    },
    {
      "cell_type": "code",
      "metadata": {
        "id": "csXuDldEY-yN",
        "colab_type": "code",
        "outputId": "ebf4665d-2501-40b4-fcac-2af7bb2ad77a",
        "colab": {}
      },
      "source": [
        "f = d.transpose()\n",
        "print(d)\n",
        "\n",
        "print(\"\")\n",
        "print(f)"
      ],
      "execution_count": 0,
      "outputs": [
        {
          "output_type": "stream",
          "text": [
            "[ 0.  1.  2.]\n",
            "\n",
            "[ 0.  1.  2.]\n"
          ],
          "name": "stdout"
        }
      ]
    },
    {
      "cell_type": "code",
      "metadata": {
        "id": "ESEOwXiRY-y4",
        "colab_type": "code",
        "outputId": "a38b981a-0b4b-4133-cc06-9c566bbdb119",
        "colab": {}
      },
      "source": [
        "i = 2\n",
        "d[0] * f[0] + d[1] * f[1] + d[2] * f[2]"
      ],
      "execution_count": 0,
      "outputs": [
        {
          "output_type": "execute_result",
          "data": {
            "text/plain": [
              "5.0"
            ]
          },
          "metadata": {
            "tags": []
          },
          "execution_count": 11
        }
      ]
    },
    {
      "cell_type": "code",
      "metadata": {
        "id": "htTVnX4VY-zF",
        "colab_type": "code",
        "outputId": "626f70cb-e968-4259-9795-72960c643acd",
        "colab": {}
      },
      "source": [
        "g = np.dot(f, d)\n",
        "print(g)\n",
        "print(np.dot(d, f))\n",
        "d.shape, f.shape"
      ],
      "execution_count": 0,
      "outputs": [
        {
          "output_type": "stream",
          "text": [
            "5.0\n",
            "5.0\n"
          ],
          "name": "stdout"
        },
        {
          "output_type": "execute_result",
          "data": {
            "text/plain": [
              "((3,), (3,))"
            ]
          },
          "metadata": {
            "tags": []
          },
          "execution_count": 12
        }
      ]
    },
    {
      "cell_type": "code",
      "metadata": {
        "id": "-nqDGIfGY-0L",
        "colab_type": "code",
        "outputId": "c9a02d75-9fab-4573-f9ce-dedf12443e80",
        "colab": {}
      },
      "source": [
        "f * d"
      ],
      "execution_count": 0,
      "outputs": [
        {
          "output_type": "execute_result",
          "data": {
            "text/plain": [
              "array([ 0.,  1.,  4.])"
            ]
          },
          "metadata": {
            "tags": []
          },
          "execution_count": 13
        }
      ]
    },
    {
      "cell_type": "code",
      "metadata": {
        "id": "LvtYKuezY-0Y",
        "colab_type": "code",
        "outputId": "197a0a97-6894-4c15-a931-bff36566a05a",
        "colab": {}
      },
      "source": [
        "d * f"
      ],
      "execution_count": 0,
      "outputs": [
        {
          "output_type": "execute_result",
          "data": {
            "text/plain": [
              "array([ 0.,  1.,  4.])"
            ]
          },
          "metadata": {
            "tags": []
          },
          "execution_count": 14
        }
      ]
    },
    {
      "cell_type": "code",
      "metadata": {
        "id": "mFN7YcBzY-0h",
        "colab_type": "code",
        "outputId": "21462a09-9dcc-4018-afa4-dc91739698e3",
        "colab": {}
      },
      "source": [
        "a = np.array([[1, 2, 3]], float)\n",
        "print(a)\n",
        "b = a.transpose()\n",
        "print(b)"
      ],
      "execution_count": 0,
      "outputs": [
        {
          "output_type": "stream",
          "text": [
            "[[ 1.  2.  3.]]\n",
            "[[ 1.]\n",
            " [ 2.]\n",
            " [ 3.]]\n"
          ],
          "name": "stdout"
        }
      ]
    },
    {
      "cell_type": "code",
      "metadata": {
        "id": "e6rS7pO7Y-1Y",
        "colab_type": "code",
        "outputId": "5e31ce1f-0eb0-429c-a54d-c7baa98b4c78",
        "colab": {}
      },
      "source": [
        "c = np.dot(a, b)\n",
        "c"
      ],
      "execution_count": 0,
      "outputs": [
        {
          "output_type": "execute_result",
          "data": {
            "text/plain": [
              "array([[ 14.]])"
            ]
          },
          "metadata": {
            "tags": []
          },
          "execution_count": 16
        }
      ]
    },
    {
      "cell_type": "code",
      "metadata": {
        "id": "cToOK1mFY-1f",
        "colab_type": "code",
        "outputId": "deb93683-14c7-41c8-fcbe-e780a7e9557d",
        "colab": {}
      },
      "source": [
        "np.dot(b, a)"
      ],
      "execution_count": 0,
      "outputs": [
        {
          "output_type": "execute_result",
          "data": {
            "text/plain": [
              "array([[ 1.,  2.,  3.],\n",
              "       [ 2.,  4.,  6.],\n",
              "       [ 3.,  6.,  9.]])"
            ]
          },
          "metadata": {
            "tags": []
          },
          "execution_count": 17
        }
      ]
    },
    {
      "cell_type": "code",
      "metadata": {
        "id": "gBHLroMIY-1m",
        "colab_type": "code",
        "outputId": "0149bc67-dea4-4c01-9cfd-dc8ebc14c220",
        "colab": {}
      },
      "source": [
        "a.shape, b.shape, c.shape"
      ],
      "execution_count": 0,
      "outputs": [
        {
          "output_type": "execute_result",
          "data": {
            "text/plain": [
              "((1, 3), (3, 1), (1, 1))"
            ]
          },
          "metadata": {
            "tags": []
          },
          "execution_count": 18
        }
      ]
    },
    {
      "cell_type": "markdown",
      "metadata": {
        "id": "h_AxsBpdY-1v",
        "colab_type": "text"
      },
      "source": [
        "### $5E =\n",
        "5\\begin{pmatrix}\n",
        "1 & 0 & 0 & 0 & 0\\\\\n",
        "0 & 1 & 0 & 0 & 0\\\\\n",
        "0 & 0 & 1 & 0 & 0\\\\\n",
        "0 & 0 & 0 & 1 & 0\\\\\n",
        "0 & 0 & 0 & 0 & 1\n",
        "\\end{pmatrix}\n",
        "$\n",
        "### $(5E)^{-1} =\n",
        "{1/5}\\begin{pmatrix}\n",
        "1 & 0 & 0 & 0 & 0\\\\\n",
        "0 & 1 & 0 & 0 & 0\\\\\n",
        "0 & 0 & 1 & 0 & 0\\\\\n",
        "0 & 0 & 0 & 1 & 0\\\\\n",
        "0 & 0 & 0 & 0 & 1\n",
        "\\end{pmatrix} \n",
        "$"
      ]
    },
    {
      "cell_type": "code",
      "metadata": {
        "id": "b5MZ8Z3FY-1y",
        "colab_type": "code",
        "outputId": "76b961cf-9334-43b6-b646-5bc68b57fa4e",
        "colab": {}
      },
      "source": [
        "A = 5 * np.identity(5)\n",
        "print(A)"
      ],
      "execution_count": 0,
      "outputs": [
        {
          "output_type": "stream",
          "text": [
            "[[ 5.  0.  0.  0.  0.]\n",
            " [ 0.  5.  0.  0.  0.]\n",
            " [ 0.  0.  5.  0.  0.]\n",
            " [ 0.  0.  0.  5.  0.]\n",
            " [ 0.  0.  0.  0.  5.]]\n"
          ],
          "name": "stdout"
        }
      ]
    },
    {
      "cell_type": "code",
      "metadata": {
        "id": "05pugIxYY-18",
        "colab_type": "code",
        "outputId": "437133e0-db5d-4b77-8081-a07c94485461",
        "colab": {}
      },
      "source": [
        "P = np.linalg.inv(A)\n",
        "print(P)"
      ],
      "execution_count": 0,
      "outputs": [
        {
          "output_type": "stream",
          "text": [
            "[[ 0.2  0.   0.   0.   0. ]\n",
            " [ 0.   0.2  0.   0.   0. ]\n",
            " [ 0.   0.   0.2  0.   0. ]\n",
            " [ 0.   0.   0.   0.2  0. ]\n",
            " [ 0.   0.   0.   0.   0.2]]\n"
          ],
          "name": "stdout"
        }
      ]
    },
    {
      "cell_type": "markdown",
      "metadata": {
        "id": "IjZzYBmzY-2J",
        "colab_type": "text"
      },
      "source": [
        "### 5.2"
      ]
    },
    {
      "cell_type": "code",
      "metadata": {
        "id": "zaIMNPFkY-2M",
        "colab_type": "code",
        "outputId": "5ab8b01a-a60a-477d-b07b-e72948ee9ddd",
        "colab": {}
      },
      "source": [
        "a = np.array([[1, 2, 3], [4, 0, 6], [7, 8, 9]], float)\n",
        "print(a)\n",
        "np.linalg.det(a)"
      ],
      "execution_count": 0,
      "outputs": [
        {
          "output_type": "stream",
          "text": [
            "[[ 1.  2.  3.]\n",
            " [ 4.  0.  6.]\n",
            " [ 7.  8.  9.]]\n"
          ],
          "name": "stdout"
        },
        {
          "output_type": "execute_result",
          "data": {
            "text/plain": [
              "59.999999999999986"
            ]
          },
          "metadata": {
            "tags": []
          },
          "execution_count": 21
        }
      ]
    },
    {
      "cell_type": "code",
      "metadata": {
        "id": "08TM0jPaY-2V",
        "colab_type": "code",
        "outputId": "f76bbf3e-906b-46bf-c870-f4011ec34503",
        "colab": {}
      },
      "source": [
        "4 * 8 * 3 + 2 * 6 * 7 - 6 * 8 * 1 - 2 * 4 * 9"
      ],
      "execution_count": 0,
      "outputs": [
        {
          "output_type": "execute_result",
          "data": {
            "text/plain": [
              "60"
            ]
          },
          "metadata": {
            "tags": []
          },
          "execution_count": 22
        }
      ]
    },
    {
      "cell_type": "markdown",
      "metadata": {
        "id": "chfhFfmmY-2d",
        "colab_type": "text"
      },
      "source": [
        "### 5.3"
      ]
    },
    {
      "cell_type": "code",
      "metadata": {
        "id": "p5Xy5HSXY-2f",
        "colab_type": "code",
        "outputId": "0b7f43bb-2ee8-42a9-ae04-fc90815f75b3",
        "colab": {}
      },
      "source": [
        "np.linalg.inv(a)"
      ],
      "execution_count": 0,
      "outputs": [
        {
          "output_type": "execute_result",
          "data": {
            "text/plain": [
              "array([[-0.8       ,  0.1       ,  0.2       ],\n",
              "       [ 0.1       , -0.2       ,  0.1       ],\n",
              "       [ 0.53333333,  0.1       , -0.13333333]])"
            ]
          },
          "metadata": {
            "tags": []
          },
          "execution_count": 23
        }
      ]
    },
    {
      "cell_type": "code",
      "metadata": {
        "id": "pYaUGMPPY-2n",
        "colab_type": "code",
        "outputId": "1c6e101c-b970-4526-83b2-5053e5c4cfaa",
        "colab": {}
      },
      "source": [
        "c = np.array([[1, 1, 1, 1], [1, 1, 1, 1], [1, 1, 1, 1], [1, 1, 1, 1]], float)\n",
        "print(c)\n",
        "np.linalg.matrix_rank(b, 0.0001)"
      ],
      "execution_count": 0,
      "outputs": [
        {
          "output_type": "stream",
          "text": [
            "[[ 1.  1.  1.  1.]\n",
            " [ 1.  1.  1.  1.]\n",
            " [ 1.  1.  1.  1.]\n",
            " [ 1.  1.  1.  1.]]\n"
          ],
          "name": "stdout"
        },
        {
          "output_type": "execute_result",
          "data": {
            "text/plain": [
              "1"
            ]
          },
          "metadata": {
            "tags": []
          },
          "execution_count": 24
        }
      ]
    },
    {
      "cell_type": "code",
      "metadata": {
        "id": "oZQ1otg1Y-2v",
        "colab_type": "code",
        "outputId": "48754e60-a564-485e-d296-d45b3036e640",
        "colab": {}
      },
      "source": [
        "np.linalg.matrix_rank(a, 0.0001)"
      ],
      "execution_count": 0,
      "outputs": [
        {
          "output_type": "execute_result",
          "data": {
            "text/plain": [
              "3"
            ]
          },
          "metadata": {
            "tags": []
          },
          "execution_count": 25
        }
      ]
    },
    {
      "cell_type": "markdown",
      "metadata": {
        "id": "H0jTMLKAY-22",
        "colab_type": "text"
      },
      "source": [
        "### 5.4"
      ]
    },
    {
      "cell_type": "code",
      "metadata": {
        "id": "3vL2CJW-Y-24",
        "colab_type": "code",
        "outputId": "1dccd5a1-22f3-4376-c733-27ece1d90c1d",
        "colab": {}
      },
      "source": [
        "f = np.array([1, 5])\n",
        "d = np.array([2, 8])\n",
        "np.dot(f, d)"
      ],
      "execution_count": 0,
      "outputs": [
        {
          "output_type": "execute_result",
          "data": {
            "text/plain": [
              "42"
            ]
          },
          "metadata": {
            "tags": []
          },
          "execution_count": 26
        }
      ]
    },
    {
      "cell_type": "code",
      "metadata": {
        "id": "OFLK2qGNY-3B",
        "colab_type": "code",
        "outputId": "f6a71734-e15d-4a8a-f7c2-2af0d88584f6",
        "colab": {}
      },
      "source": [
        "np.dot(d, f)"
      ],
      "execution_count": 0,
      "outputs": [
        {
          "output_type": "execute_result",
          "data": {
            "text/plain": [
              "42"
            ]
          },
          "metadata": {
            "tags": []
          },
          "execution_count": 27
        }
      ]
    },
    {
      "cell_type": "markdown",
      "metadata": {
        "id": "dDUf_1HtY-3I",
        "colab_type": "text"
      },
      "source": [
        "### 5.5"
      ]
    },
    {
      "cell_type": "code",
      "metadata": {
        "id": "pT8wW-dPY-3K",
        "colab_type": "code",
        "outputId": "80bc56d5-0f2d-43b3-cdad-5aea710f0101",
        "colab": {}
      },
      "source": [
        "a = np.array([1, 5, 0])\n",
        "b = np.array([2, 8, 7])\n",
        "c = np.array([7, 1.5, 3])\n",
        "v = np.cross(a, b)\n",
        "print (np.inner(v, c))\n",
        "w = np.cross(b, c)\n",
        "print (np.inner(w, a))"
      ],
      "execution_count": 0,
      "outputs": [
        {
          "output_type": "stream",
          "text": [
            "228.5\n",
            "228.5\n"
          ],
          "name": "stdout"
        }
      ]
    },
    {
      "cell_type": "code",
      "metadata": {
        "id": "SIsemZnkY-3S",
        "colab_type": "code",
        "colab": {}
      },
      "source": [
        ""
      ],
      "execution_count": 0,
      "outputs": []
    }
  ]
}