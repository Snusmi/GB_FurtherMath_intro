{
 "cells": [
  {
   "cell_type": "markdown",
   "metadata": {},
   "source": [
    "### 1 Вычислите, по возможности не используя программирование: обратная матрица к (5Е), где Е – единичная матрица размера 5х5."
   ]
  },
  {
   "cell_type": "markdown",
   "metadata": {},
   "source": [
    "**Ответ**<br>\n",
    "Свойства обратной матрицы: \n",
    "* (kA)^-1 = k^-1 * A^-1, где k - коэффициент при матрице А\n",
    "* E^-1 = E<br>\n",
    "\n",
    "Т.о. (5Е)^-1 = 1/5 * E\n",
    "\n",
    "\n",
    "**Проверим**"
   ]
  },
  {
   "cell_type": "code",
   "execution_count": 11,
   "metadata": {},
   "outputs": [
    {
     "name": "stdout",
     "output_type": "stream",
     "text": [
      "[[ 0.2  0.   0.   0.   0. ]\n",
      " [ 0.   0.2  0.   0.   0. ]\n",
      " [ 0.   0.   0.2  0.   0. ]\n",
      " [-0.  -0.  -0.   0.2 -0. ]\n",
      " [ 0.   0.   0.   0.   0.2]]\n",
      "[[1. 0. 0. 0. 0.]\n",
      " [0. 1. 0. 0. 0.]\n",
      " [0. 0. 1. 0. 0.]\n",
      " [0. 0. 0. 1. 0.]\n",
      " [0. 0. 0. 0. 1.]]\n"
     ]
    }
   ],
   "source": [
    "import numpy as np\n",
    "a = 5* np.identity(5)\n",
    "b = np.linalg.inv(a)\n",
    "\n",
    "print(b)\n",
    "print(np.dot(a,b))"
   ]
  },
  {
   "cell_type": "markdown",
   "metadata": {},
   "source": [
    "### 2 Вычислите определитель матрицы [[1,2,3],[4,0,6],[7,8,9]]"
   ]
  },
  {
   "cell_type": "markdown",
   "metadata": {},
   "source": [
    "![](Lesson7_1_pic1.jpg)<br>\n",
    "**Проверим**"
   ]
  },
  {
   "cell_type": "code",
   "execution_count": 12,
   "metadata": {},
   "outputs": [
    {
     "name": "stdout",
     "output_type": "stream",
     "text": [
      "59.999999999999986\n"
     ]
    }
   ],
   "source": [
    "a = np.array([[1,2,3],[4,0,6],[7,8,9]], float)\n",
    "det_a = np.linalg.det(a)\n",
    "print(det_a)"
   ]
  },
  {
   "cell_type": "markdown",
   "metadata": {},
   "source": [
    "### 3 Вычислите матрицу, обратную данной [[1,2,3],[4,0,6],[7,8,9]]"
   ]
  },
  {
   "cell_type": "markdown",
   "metadata": {},
   "source": [
    "![](Lesson7_1_pic2.jpg)<br>\n",
    "![](Lesson7_1_pic3.jpg)<br>\n",
    "**Проверим**"
   ]
  },
  {
   "cell_type": "code",
   "execution_count": 6,
   "metadata": {},
   "outputs": [
    {
     "name": "stdout",
     "output_type": "stream",
     "text": [
      "[[-0.8         0.1         0.2       ]\n",
      " [ 0.1        -0.2         0.1       ]\n",
      " [ 0.53333333  0.1        -0.13333333]]\n",
      "[[ 1.00000000e+00 -2.77555756e-17  5.55111512e-17]\n",
      " [ 0.00000000e+00  1.00000000e+00  1.11022302e-16]\n",
      " [ 0.00000000e+00  2.77555756e-17  1.00000000e+00]]\n"
     ]
    }
   ],
   "source": [
    "a = np.array([[1,2,3],[4,0,6],[7,8,9]], float)\n",
    "b = np.linalg.inv(a)\n",
    "print(b)\n",
    "print(np.dot(a,b))"
   ]
  },
  {
   "cell_type": "markdown",
   "metadata": {},
   "source": [
    "### 4 Приведите пример матрицы 4х4, ранг которой равен 1"
   ]
  },
  {
   "cell_type": "markdown",
   "metadata": {},
   "source": [
    "**Ответ**<br>\n",
    "Это матрица, все строки которой пропорциональны"
   ]
  },
  {
   "cell_type": "code",
   "execution_count": 13,
   "metadata": {},
   "outputs": [
    {
     "name": "stdout",
     "output_type": "stream",
     "text": [
      "[[ 1.   2.   3.   4. ]\n",
      " [ 2.   4.   6.   8. ]\n",
      " [-1.  -2.  -3.  -4. ]\n",
      " [ 0.5  1.   1.5  2. ]]\n",
      "1\n"
     ]
    }
   ],
   "source": [
    "a = np.array([[1,2,3,4],[2,4,6,8],[-1,-2,-3,-4],[0.5,1,1.5,2]])\n",
    "print(a)\n",
    "print(np.linalg.matrix_rank(a))"
   ]
  },
  {
   "cell_type": "markdown",
   "metadata": {},
   "source": [
    "### 5 Вычислите скалярное произведение двух векторов:  (1, 5)  и  (2, 8)"
   ]
  },
  {
   "cell_type": "markdown",
   "metadata": {},
   "source": [
    "![](Lesson7_1_pic5.jpg)<br>\n",
    "**Проверим**"
   ]
  },
  {
   "cell_type": "code",
   "execution_count": 14,
   "metadata": {},
   "outputs": [
    {
     "name": "stdout",
     "output_type": "stream",
     "text": [
      "42\n"
     ]
    }
   ],
   "source": [
    "%matplotlib inline\n",
    "import numpy as np\n",
    "import matplotlib.pyplot as plt\n",
    "\n",
    "a = np.array([1, 5])\n",
    "b = np.array([2, 8])\n",
    "print(np.vdot(a, b))"
   ]
  },
  {
   "cell_type": "markdown",
   "metadata": {},
   "source": [
    "### 6 Вычислите смешанное произведение трех векторов: (1, 5, 0), (2, 8, 7) и (7, 1.5, 3) "
   ]
  },
  {
   "cell_type": "markdown",
   "metadata": {},
   "source": [
    "![](Lesson7_1_pic6.jpg)<br>\n",
    "**Проверим**"
   ]
  },
  {
   "cell_type": "code",
   "execution_count": 10,
   "metadata": {},
   "outputs": [
    {
     "name": "stdout",
     "output_type": "stream",
     "text": [
      "228.5\n",
      "228.5\n"
     ]
    }
   ],
   "source": [
    "a = np.array([1, 5, 0])\n",
    "b = np.array([2, 8, 7])\n",
    "c = np.array([7, 1.5, 3])\n",
    "print(np.vdot(a, np.cross(b,c)))\n",
    "print(np.vdot(c, np.cross(a,b)))"
   ]
  }
 ],
 "metadata": {
  "kernelspec": {
   "display_name": "Python 3",
   "language": "python",
   "name": "python3"
  },
  "language_info": {
   "codemirror_mode": {
    "name": "ipython",
    "version": 3
   },
   "file_extension": ".py",
   "mimetype": "text/x-python",
   "name": "python",
   "nbconvert_exporter": "python",
   "pygments_lexer": "ipython3",
   "version": "3.7.5"
  }
 },
 "nbformat": 4,
 "nbformat_minor": 2
}
