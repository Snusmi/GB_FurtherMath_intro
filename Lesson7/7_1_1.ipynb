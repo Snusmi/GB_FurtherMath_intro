{
  "nbformat": 4,
  "nbformat_minor": 0,
  "metadata": {
    "kernelspec": {
      "display_name": "Python 3",
      "language": "python",
      "name": "python3"
    },
    "language_info": {
      "codemirror_mode": {
        "name": "ipython",
        "version": 3
      },
      "file_extension": ".py",
      "mimetype": "text/x-python",
      "name": "python",
      "nbconvert_exporter": "python",
      "pygments_lexer": "ipython3",
      "version": "3.6.0"
    },
    "colab": {
      "name": "Копия 5.1.ipynb",
      "provenance": []
    }
  },
  "cells": [
    {
      "cell_type": "markdown",
      "metadata": {
        "collapsed": true,
        "id": "BbFincA6Xe3R",
        "colab_type": "text"
      },
      "source": [
        "## Матрицы и векторы\n",
        "### Основные операции с векторами и матрицами"
      ]
    },
    {
      "cell_type": "code",
      "metadata": {
        "id": "YWseyCH1Xe3U",
        "colab_type": "code",
        "colab": {}
      },
      "source": [
        "import numpy as np"
      ],
      "execution_count": 0,
      "outputs": []
    },
    {
      "cell_type": "markdown",
      "metadata": {
        "id": "eGbesMJGXe3a",
        "colab_type": "text"
      },
      "source": [
        "#### Что такое матрица?\n",
        "Матрица — математический объект, записываемый в виде прямоугольной таблицы элементов, например — целых или действительных чисел.\n",
        "\n",
        "Матрица представляет собой совокупность строк и столбцов, на пересечении которых находятся её элементы. \n",
        "\n",
        "Количество строк и столбцов задает размер матрицы.\n",
        "## $A = \\left(\n",
        "\\begin{array}{cccc}\n",
        "a_{00} & a_{01} & \\ldots & a_{0n}\\\\\n",
        "a_{10} & a_{11} & \\ldots & a_{1n}\\\\\n",
        "\\vdots & \\vdots & \\ddots & \\vdots\\\\\n",
        "a_{m0} & a_{m1} & \\ldots & a_{mn}\n",
        "\\end{array}\n",
        "\\right)$"
      ]
    },
    {
      "cell_type": "code",
      "metadata": {
        "id": "kriW-KuuXe3c",
        "colab_type": "code",
        "outputId": "3d50aff6-039d-43bb-c583-d8f87a5fe69c",
        "colab": {}
      },
      "source": [
        "a = np.array([[1, 2, 3], [4, 5, 6], [7, 8, 9], [0, -1, 12]], float)\n",
        "print(a)"
      ],
      "execution_count": 0,
      "outputs": [
        {
          "output_type": "stream",
          "text": [
            "[[  1.   2.   3.]\n",
            " [  4.   5.   6.]\n",
            " [  7.   8.   9.]\n",
            " [  0.  -1.  12.]]\n"
          ],
          "name": "stdout"
        }
      ]
    },
    {
      "cell_type": "code",
      "metadata": {
        "id": "fL0p86riXe3j",
        "colab_type": "code",
        "outputId": "1f2ee6ad-e6c4-4d80-e738-eb2564252f48",
        "colab": {}
      },
      "source": [
        "print(a[2, 1])"
      ],
      "execution_count": 0,
      "outputs": [
        {
          "output_type": "stream",
          "text": [
            "8.0\n"
          ],
          "name": "stdout"
        }
      ]
    },
    {
      "cell_type": "code",
      "metadata": {
        "id": "dJ60dhJaXe3p",
        "colab_type": "code",
        "outputId": "0e50b303-bfc8-45cd-bc28-a7685648b21e",
        "colab": {}
      },
      "source": [
        "print(a.shape)"
      ],
      "execution_count": 0,
      "outputs": [
        {
          "output_type": "stream",
          "text": [
            "(4, 3)\n"
          ],
          "name": "stdout"
        }
      ]
    },
    {
      "cell_type": "markdown",
      "metadata": {
        "collapsed": true,
        "id": "lqmYUOZhXe3u",
        "colab_type": "text"
      },
      "source": [
        "#### Операции с матрицами"
      ]
    },
    {
      "cell_type": "code",
      "metadata": {
        "id": "PAP6fhq7Xe3w",
        "colab_type": "code",
        "outputId": "acf57401-d694-4431-aba3-7a09d446bc20",
        "colab": {}
      },
      "source": [
        "b = a * 2\n",
        "print(b)"
      ],
      "execution_count": 0,
      "outputs": [
        {
          "output_type": "stream",
          "text": [
            "[[  2.   4.   6.]\n",
            " [  8.  10.  12.]\n",
            " [ 14.  16.  18.]\n",
            " [  0.  -2.  24.]]\n"
          ],
          "name": "stdout"
        }
      ]
    },
    {
      "cell_type": "code",
      "metadata": {
        "id": "673tErnTXe31",
        "colab_type": "code",
        "outputId": "a3fff1f4-2bf6-4f15-f7a1-cf73c106150d",
        "colab": {}
      },
      "source": [
        "c = a + 1\n",
        "print(c)"
      ],
      "execution_count": 0,
      "outputs": [
        {
          "output_type": "stream",
          "text": [
            "[[  2.   3.   4.]\n",
            " [  5.   6.   7.]\n",
            " [  8.   9.  10.]\n",
            " [  1.   0.  13.]]\n"
          ],
          "name": "stdout"
        }
      ]
    },
    {
      "cell_type": "code",
      "metadata": {
        "id": "fwXAM1vqXe36",
        "colab_type": "code",
        "outputId": "682e8cff-b281-4b4e-c5e0-e0800745cecc",
        "colab": {}
      },
      "source": [
        "d = c + b\n",
        "print(d)"
      ],
      "execution_count": 0,
      "outputs": [
        {
          "output_type": "stream",
          "text": [
            "[[  4.   7.  10.]\n",
            " [ 13.  16.  19.]\n",
            " [ 22.  25.  28.]\n",
            " [  1.  -2.  37.]]\n"
          ],
          "name": "stdout"
        }
      ]
    },
    {
      "cell_type": "code",
      "metadata": {
        "id": "x8oqFHIXXe3_",
        "colab_type": "code",
        "outputId": "8cbf7fdb-3266-4215-ff03-ce0368d34f38",
        "colab": {}
      },
      "source": [
        "d = np.subtract(b, c)\n",
        "print(d)"
      ],
      "execution_count": 0,
      "outputs": [
        {
          "output_type": "stream",
          "text": [
            "[[  0.   1.   2.]\n",
            " [  3.   4.   5.]\n",
            " [  6.   7.   8.]\n",
            " [ -1.  -2.  11.]]\n"
          ],
          "name": "stdout"
        }
      ]
    },
    {
      "cell_type": "code",
      "metadata": {
        "id": "vRgf19RWXe4F",
        "colab_type": "code",
        "outputId": "79a8625e-ce54-4eb8-dc68-1813c0d100a1",
        "colab": {}
      },
      "source": [
        "print(b - c)"
      ],
      "execution_count": 0,
      "outputs": [
        {
          "output_type": "stream",
          "text": [
            "[[  0.   1.   2.]\n",
            " [  3.   4.   5.]\n",
            " [  6.   7.   8.]\n",
            " [ -1.  -2.  11.]]\n"
          ],
          "name": "stdout"
        }
      ]
    },
    {
      "cell_type": "markdown",
      "metadata": {
        "id": "kGJ-szDCXe4K",
        "colab_type": "text"
      },
      "source": [
        "## Транспонирование матрицы\n",
        "## $F =  D^T $"
      ]
    },
    {
      "cell_type": "code",
      "metadata": {
        "id": "I6eXj0nPXe4M",
        "colab_type": "code",
        "outputId": "65035fcc-a50a-4da3-f896-3d4e8f6b0e02",
        "colab": {}
      },
      "source": [
        "f = d.transpose()\n",
        "print(d)\n",
        "\n",
        "print(\"\")\n",
        "print(f)"
      ],
      "execution_count": 0,
      "outputs": [
        {
          "output_type": "stream",
          "text": [
            "[[  0.   1.   2.]\n",
            " [  3.   4.   5.]\n",
            " [  6.   7.   8.]\n",
            " [ -1.  -2.  11.]]\n",
            "\n",
            "[[  0.   3.   6.  -1.]\n",
            " [  1.   4.   7.  -2.]\n",
            " [  2.   5.   8.  11.]]\n"
          ],
          "name": "stdout"
        }
      ]
    },
    {
      "cell_type": "markdown",
      "metadata": {
        "collapsed": false,
        "id": "ehaGp9I8Xe4R",
        "colab_type": "text"
      },
      "source": [
        "#### Умножение матриц\n",
        "### $G =  D \\cdot F$\n",
        "### $g_{i j} =   d_{i 0} \\cdotp f_{0 j} + d_{i 1} \\cdotp f_{1 j} + d_{i 2} \\cdotp f_{2 j} = \\sum_{k=0}^{n-1} d_{i k} \\cdotp f_{k j}$"
      ]
    },
    {
      "cell_type": "code",
      "metadata": {
        "id": "4oPIPtV1Xe4S",
        "colab_type": "code",
        "outputId": "6093e772-a8ca-4da2-ba09-568c6c13e7c7",
        "colab": {}
      },
      "source": [
        "i, j = 0, 2\n",
        "d[i, 0] * f[0, j] + d[i, 1] * f[1, j] + d[i, 2] * f[2, j]"
      ],
      "execution_count": 0,
      "outputs": [
        {
          "output_type": "execute_result",
          "data": {
            "text/plain": [
              "23.0"
            ]
          },
          "metadata": {
            "tags": []
          },
          "execution_count": 22
        }
      ]
    },
    {
      "cell_type": "code",
      "metadata": {
        "id": "w2BF-RxoXe4Y",
        "colab_type": "code",
        "outputId": "1f773ee1-89ef-4635-d8ab-af7bd100fb8a",
        "colab": {}
      },
      "source": [
        "g = np.dot(f, d)\n",
        "print(g)\n",
        "d.shape, f.shape"
      ],
      "execution_count": 0,
      "outputs": [
        {
          "output_type": "stream",
          "text": [
            "[[  46.   56.   52.]\n",
            " [  56.   70.   56.]\n",
            " [  52.   56.  214.]]\n"
          ],
          "name": "stdout"
        },
        {
          "output_type": "execute_result",
          "data": {
            "text/plain": [
              "((4, 3), (3, 4))"
            ]
          },
          "metadata": {
            "tags": []
          },
          "execution_count": 23
        }
      ]
    },
    {
      "cell_type": "markdown",
      "metadata": {
        "id": "oXT54WtJXe4d",
        "colab_type": "text"
      },
      "source": [
        "#### Единичная и нулевая матрица\n",
        "### $A \\cdot E = E \\cdot A = A$\n",
        "### $A \\cdot O = O \\cdot A = O$\n",
        "### $E =\n",
        "\\begin{pmatrix}\n",
        "1 & 0 & 0\\\\\n",
        "0 & 1 & 0\\\\\n",
        "0 & 0 & 1\n",
        "\\end{pmatrix}\n",
        "$\n",
        "### $O =\n",
        "\\begin{pmatrix}\n",
        "0 & 0 & 0\\\\\n",
        "0 & 0 & 0\\\\\n",
        "0 & 0 & 0\n",
        "\\end{pmatrix}\n",
        "$"
      ]
    },
    {
      "cell_type": "code",
      "metadata": {
        "id": "vwthSDIQXe4e",
        "colab_type": "code",
        "outputId": "c84a2dd4-68a0-4747-e920-587d41916c8b",
        "colab": {}
      },
      "source": [
        "e = np.identity(3)\n",
        "print(e)"
      ],
      "execution_count": 0,
      "outputs": [
        {
          "output_type": "stream",
          "text": [
            "[[ 1.  0.  0.]\n",
            " [ 0.  1.  0.]\n",
            " [ 0.  0.  1.]]\n"
          ],
          "name": "stdout"
        }
      ]
    },
    {
      "cell_type": "code",
      "metadata": {
        "id": "rBTM_1JWXe4j",
        "colab_type": "code",
        "outputId": "cd4984f4-e529-498d-c577-6e555862ac08",
        "colab": {}
      },
      "source": [
        "np.dot(e, g)"
      ],
      "execution_count": 0,
      "outputs": [
        {
          "output_type": "execute_result",
          "data": {
            "text/plain": [
              "array([[  46.,   56.,   52.],\n",
              "       [  56.,   70.,   56.],\n",
              "       [  52.,   56.,  214.]])"
            ]
          },
          "metadata": {
            "tags": []
          },
          "execution_count": 26
        }
      ]
    },
    {
      "cell_type": "markdown",
      "metadata": {
        "id": "1b-meBJdXe4o",
        "colab_type": "text"
      },
      "source": [
        "#### Обратная матрица\n",
        "### $A \\cdot A^{-1} = E$"
      ]
    },
    {
      "cell_type": "code",
      "metadata": {
        "id": "aBpxo6eKXe4q",
        "colab_type": "code",
        "outputId": "feac16c7-4764-406d-b02f-d2d14d7928e3",
        "colab": {}
      },
      "source": [
        "p = np.linalg.inv(g)\n",
        "print(p)"
      ],
      "execution_count": 0,
      "outputs": [
        {
          "output_type": "stream",
          "text": [
            "[[ 1.11904762 -0.85714286 -0.04761905]\n",
            " [-0.85714286  0.67460317  0.03174603]\n",
            " [-0.04761905  0.03174603  0.00793651]]\n"
          ],
          "name": "stdout"
        }
      ]
    },
    {
      "cell_type": "code",
      "metadata": {
        "id": "vZsS39EFXe4v",
        "colab_type": "code",
        "outputId": "e6a79086-d230-4647-85d1-7e2f7429e7a4",
        "colab": {}
      },
      "source": [
        "np.dot(g, p)"
      ],
      "execution_count": 0,
      "outputs": [
        {
          "output_type": "execute_result",
          "data": {
            "text/plain": [
              "array([[  1.00000000e+00,  -1.33226763e-15,   1.11022302e-16],\n",
              "       [  4.88498131e-15,   1.00000000e+00,   2.22044605e-16],\n",
              "       [  0.00000000e+00,   2.66453526e-15,   1.00000000e+00]])"
            ]
          },
          "metadata": {
            "tags": []
          },
          "execution_count": 28
        }
      ]
    },
    {
      "cell_type": "code",
      "metadata": {
        "id": "biTQScLbXe40",
        "colab_type": "code",
        "outputId": "e60beef6-6b84-45d1-86af-a87e26a42358",
        "colab": {}
      },
      "source": [
        "np.dot(p, g)"
      ],
      "execution_count": 0,
      "outputs": [
        {
          "output_type": "execute_result",
          "data": {
            "text/plain": [
              "array([[  1.00000000e+00,   2.04281037e-14,   1.06581410e-14],\n",
              "       [ -1.99840144e-15,   1.00000000e+00,  -7.99360578e-15],\n",
              "       [  1.11022302e-16,   2.22044605e-16,   1.00000000e+00]])"
            ]
          },
          "metadata": {
            "tags": []
          },
          "execution_count": 29
        }
      ]
    },
    {
      "cell_type": "markdown",
      "metadata": {
        "id": "SCjSSuLjXe45",
        "colab_type": "text"
      },
      "source": [
        "#### Свойства сложения и умножения матриц\n",
        "### $(k \\cdot l) \\cdot A = k \\cdot (l \\cdot A)$\n",
        "### $k \\cdot (A+B) = k \\cdot A + k \\cdot B $\n",
        "### $(k+l) \\cdot A = k \\cdot A + l \\cdot A $\n",
        "### $(A \\cdot B) \\cdot C = A \\cdot (B \\cdot C) $\n",
        "### $(A + B) \\cdot C = A \\cdot C + B \\cdot C $\n",
        "### $A \\cdot (B + C) = A \\cdot B + A \\cdot C $"
      ]
    },
    {
      "cell_type": "code",
      "metadata": {
        "id": "MJ8BsQv9Xe46",
        "colab_type": "code",
        "colab": {}
      },
      "source": [
        ""
      ],
      "execution_count": 0,
      "outputs": []
    }
  ]
}