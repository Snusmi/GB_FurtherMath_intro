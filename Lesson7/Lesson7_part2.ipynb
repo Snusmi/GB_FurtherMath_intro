{
 "cells": [
  {
   "cell_type": "markdown",
   "metadata": {},
   "source": [
    "### 1 Решите линейную систему:\n",
    "![](Screenshot_7_2_1.png)"
   ]
  },
  {
   "cell_type": "code",
   "execution_count": 3,
   "metadata": {},
   "outputs": [
    {
     "name": "stdout",
     "output_type": "stream",
     "text": [
      "59.999999999999986\n",
      "[-9.2         0.9         6.46666667]\n",
      "[12.  2.  1.]\n"
     ]
    }
   ],
   "source": [
    "import numpy as np\n",
    "a = np.array([[1,2,3],[4,0,6],[7,8,9]])\n",
    "b = np.array([12,2,1])\n",
    "\n",
    "#есть ли решение\n",
    "print(np.linalg.det(a))\n",
    "\n",
    "#решение\n",
    "x = np.linalg.solve(a,b)\n",
    "print(x)\n",
    "\n",
    "#проверим\n",
    "print(np.dot(a,x))"
   ]
  },
  {
   "cell_type": "markdown",
   "metadata": {},
   "source": [
    "### 2 Найдите псевдорешение:\n",
    "![](Screenshot_7_2_2.png)"
   ]
  },
  {
   "cell_type": "code",
   "execution_count": 8,
   "metadata": {},
   "outputs": [
    {
     "name": "stdout",
     "output_type": "stream",
     "text": [
      "[ 1.13919353 -0.90498444 -0.9009803 ]\n",
      "[ 0.23020495  7.03751834 11.83650981  6.78328855 15.21805313]\n"
     ]
    }
   ],
   "source": [
    "a = np.array([[1,2,-1],[3,-4,0],[8,-5,2],[2,0,-5],[11,4,-7]])\n",
    "b = np.array([1,7,12,7,15])\n",
    "\n",
    "x, res, rank, s = np.linalg.lstsq(a,b, rcond=None)\n",
    "print(x)\n",
    "\n",
    "#проверим\n",
    "print(np.dot(a,x))"
   ]
  },
  {
   "cell_type": "markdown",
   "metadata": {},
   "source": [
    "### 3 Сколько решений имеет линейная система. Если ноль – то измените вектор правой части так, чтобы система стала совместной, и решите ее. \n",
    "![](Screenshot_7_2_3.png)<br>"
   ]
  },
  {
   "cell_type": "code",
   "execution_count": 12,
   "metadata": {},
   "outputs": [
    {
     "name": "stdout",
     "output_type": "stream",
     "text": [
      "-9.51619735392994e-16\n",
      "2 3\n"
     ]
    }
   ],
   "source": [
    "a = np.array([[1,2,3], [4,5,6],[7,8,9]])\n",
    "b = np.array([[12,2,1]])\n",
    "\n",
    "#посчитаем определитель\n",
    "print(np.linalg.det(a))\n",
    "\n",
    "#посчитаем ранг матрицы и ранг расширенной матрицы\n",
    "c = np.concatenate((a,b.T), axis=1)\n",
    "print(np.linalg.matrix_rank(a), np.linalg.matrix_rank(c))"
   ]
  },
  {
   "cell_type": "markdown",
   "metadata": {},
   "source": [
    "**Ответ**<br>\n",
    "Исходная система решений не имеет.\n",
    "\n",
    "\n",
    "**Поменяем вектор правой части**"
   ]
  },
  {
   "cell_type": "code",
   "execution_count": 13,
   "metadata": {},
   "outputs": [
    {
     "name": "stdout",
     "output_type": "stream",
     "text": [
      "2 2\n"
     ]
    }
   ],
   "source": [
    "#предположим, что решение [0,0,0], тогда вектор правой части:\n",
    "b = np.array([[0,0,0]])\n",
    "c = np.concatenate((a,b.T), axis=1)\n",
    "print(np.linalg.matrix_rank(a), np.linalg.matrix_rank(c))\n",
    "\n",
    "#т.е. система стала совместной, но имеет бесконечное множество решений, т.к. ранг матрицы меньше числа неизвестных"
   ]
  },
  {
   "cell_type": "markdown",
   "metadata": {},
   "source": [
    "### 4 Вычислите LU-разложение матрицы. После этого придумайте вектор правых частей и решите полученную линейную систему трех уравнений с данной матрицей.\n",
    "![](Screenshot_7_2_4.png)"
   ]
  },
  {
   "cell_type": "code",
   "execution_count": 31,
   "metadata": {},
   "outputs": [
    {
     "name": "stdout",
     "output_type": "stream",
     "text": [
      "432.00000000000017\n"
     ]
    }
   ],
   "source": [
    "a = np.array([[1,2,3],[2,16,21],[4,28,73]])\n",
    "\n",
    "#посмотрим определитель\n",
    "print(np.linalg.det(a))"
   ]
  },
  {
   "cell_type": "code",
   "execution_count": 32,
   "metadata": {},
   "outputs": [
    {
     "data": {
      "text/plain": [
       "array([[0., 1., 0.],\n",
       "       [0., 0., 1.],\n",
       "       [1., 0., 0.]])"
      ]
     },
     "metadata": {},
     "output_type": "display_data"
    },
    {
     "data": {
      "text/plain": [
       "array([[ 1.  ,  0.  ,  0.  ],\n",
       "       [ 0.25,  1.  ,  0.  ],\n",
       "       [ 0.5 , -0.4 ,  1.  ]])"
      ]
     },
     "metadata": {},
     "output_type": "display_data"
    },
    {
     "data": {
      "text/plain": [
       "array([[  4.  ,  28.  ,  73.  ],\n",
       "       [  0.  ,  -5.  , -15.25],\n",
       "       [  0.  ,   0.  , -21.6 ]])"
      ]
     },
     "metadata": {},
     "output_type": "display_data"
    }
   ],
   "source": [
    "import scipy\n",
    "import scipy.linalg\n",
    "p,l,u = scipy.linalg.lu(a)\n",
    "display(p,l,u)"
   ]
  },
  {
   "cell_type": "code",
   "execution_count": 33,
   "metadata": {},
   "outputs": [
    {
     "name": "stdout",
     "output_type": "stream",
     "text": [
      "[[0. 0. 0.]\n",
      " [0. 0. 0.]\n",
      " [0. 0. 0.]]\n"
     ]
    }
   ],
   "source": [
    "#проверим\n",
    "print(np.dot(p.T,a)-np.dot(l,u))"
   ]
  },
  {
   "cell_type": "code",
   "execution_count": 34,
   "metadata": {},
   "outputs": [
    {
     "name": "stdout",
     "output_type": "stream",
     "text": [
      "[1.   1.25 1.1 ]\n"
     ]
    }
   ],
   "source": [
    "#пусть U*x = y = равно единичному вектору, тогда b:\n",
    "y = np.array([1,1,1])\n",
    "print(np.dot(l,y))"
   ]
  },
  {
   "cell_type": "code",
   "execution_count": 39,
   "metadata": {},
   "outputs": [
    {
     "name": "stdout",
     "output_type": "stream",
     "text": [
      "3 3\n"
     ]
    }
   ],
   "source": [
    "#проверим ранг матрицы и ранг расширенной матрицы\n",
    "b = np.array([[1, 1.25, 1.1]])\n",
    "c = np.concatenate((a,b.T), axis=1)\n",
    "print(np.linalg.matrix_rank(a), np.linalg.matrix_rank(c))"
   ]
  },
  {
   "cell_type": "code",
   "execution_count": 40,
   "metadata": {},
   "outputs": [
    {
     "name": "stdout",
     "output_type": "stream",
     "text": [
      "[[ 1.14791667]\n",
      " [-0.00520833]\n",
      " [-0.04583333]]\n",
      "[[1.  ]\n",
      " [1.25]\n",
      " [1.1 ]]\n"
     ]
    }
   ],
   "source": [
    "#т.е. система совместна и имеет единственное решение, найдем его\n",
    "x = np.linalg.solve(a,b.T)\n",
    "print(x)\n",
    "\n",
    "#проверим\n",
    "print(np.dot(a,x))"
   ]
  },
  {
   "cell_type": "markdown",
   "metadata": {},
   "source": [
    "### 5 Найдите нормальное псевдорешение недоопределенной системы. Для этого определите функцию Q(x,y,z), равную норме решения, и найдите ее минимум. \n",
    "![](Screenshot_7_2_5.png)"
   ]
  },
  {
   "cell_type": "code",
   "execution_count": 42,
   "metadata": {},
   "outputs": [
    {
     "name": "stdout",
     "output_type": "stream",
     "text": [
      "2 2\n"
     ]
    }
   ],
   "source": [
    "a = np.array([[1,2,-1], [8,-5,2]])\n",
    "b = np.array([[1,12]])\n",
    "\n",
    "#проверим ранг матрицы и ранг расширенной матрицы\n",
    "c = np.concatenate((a,b.T), axis=1)\n",
    "print(np.linalg.matrix_rank(a), np.linalg.matrix_rank(c))\n",
    "\n",
    "#система имеет бесконечное множество решений"
   ]
  },
  {
   "cell_type": "code",
   "execution_count": 59,
   "metadata": {},
   "outputs": [],
   "source": [
    "import matplotlib.pyplot as plt\n",
    "\n",
    "def Q(x,y,z):\n",
    "    return (x**2 + y**2 + z**2)"
   ]
  },
  {
   "cell_type": "markdown",
   "metadata": {},
   "source": [
    "Попробуем выразить одну переменную через другую. Умножим первое уравнение на 2 и сложим со вторым:<br>\n",
    "10x - y =14, отсюда y = 10x + 14<br>\n",
    "Подставим это вместо y в 1е уравнение: x + 20x - 28 - z = 1, отсюда z = 21x - 29"
   ]
  },
  {
   "cell_type": "code",
   "execution_count": 63,
   "metadata": {},
   "outputs": [
    {
     "data": {
      "image/png": "[encoded data removed]",
      "text/plain": [
       "<Figure size 432x288 with 1 Axes>"
      ]
     },
     "metadata": {
      "needs_background": "light"
     },
     "output_type": "display_data"
    }
   ],
   "source": [
    "x = np.linspace(-1,3.5,101)\n",
    "y = 10 * x - 14\n",
    "z = 21 * x - 29\n",
    "\n",
    "fig = plt.figure()\n",
    "ax = fig.add_subplot(111)\n",
    "ax.plot(x, Q(x,y,z))\n",
    "plt.show()"
   ]
  },
  {
   "cell_type": "code",
   "execution_count": 71,
   "metadata": {},
   "outputs": [
    {
     "data": {
      "image/png": "[encoded data removed]",
      "text/plain": [
       "<Figure size 432x288 with 1 Axes>"
      ]
     },
     "metadata": {
      "needs_background": "light"
     },
     "output_type": "display_data"
    }
   ],
   "source": [
    "#посмотрим поближе\n",
    "x = np.linspace(0.8,1.8,101)\n",
    "\n",
    "fig = plt.figure()\n",
    "ax = fig.add_subplot(111)\n",
    "ax.plot(x, Q(x,y,z))\n",
    "plt.show()"
   ]
  },
  {
   "cell_type": "markdown",
   "metadata": {},
   "source": [
    "**Значение х, минимизирующее функцию лежит в интервале (1, 1.6)**<br>\n",
    "Найдем значение х поточнее: производная функции Q в точке минимума = 0<br>\n",
    "Выразим Q от х: x^2 + (10x - 14)^2 + (21x - 29)^2 = 542 * x^2 - 1498 * x + 1037<br>\n",
    "Производная: 1084 * x - 1498 = 0<br>\n",
    "x = 1498/1084<br>\n",
    "x = 1.3819<br>\n",
    "а значит y = 10 * 1.3819 - 14 = -0.181<br>\n",
    "z = 21 * 1.3819 - 29 = 0.0199\n",
    "\n",
    "**Ответ**<br>\n",
    "1.3819, -0.181, 0.0199\n",
    "\n",
    "**Проверим**"
   ]
  },
  {
   "cell_type": "code",
   "execution_count": 72,
   "metadata": {},
   "outputs": [
    {
     "data": {
      "text/plain": [
       "array([[ 1.38191882],\n",
       "       [-0.18081181],\n",
       "       [ 0.0202952 ]])"
      ]
     },
     "metadata": {},
     "output_type": "display_data"
    },
    {
     "data": {
      "text/plain": [
       "array([], dtype=float64)"
      ]
     },
     "metadata": {},
     "output_type": "display_data"
    },
    {
     "data": {
      "text/plain": [
       "2"
      ]
     },
     "metadata": {},
     "output_type": "display_data"
    },
    {
     "data": {
      "text/plain": [
       "array([9.65316119, 2.41173777])"
      ]
     },
     "metadata": {},
     "output_type": "display_data"
    }
   ],
   "source": [
    "x, res, rank, s = np.linalg.lstsq(a,b.T, rcond=None)\n",
    "display(x, res, rank, s)"
   ]
  },
  {
   "cell_type": "markdown",
   "metadata": {},
   "source": [
    "### 6 Найдите одно из псевдорешений вырожденной системы. Попробуйте также отыскать и нормальное псевдорешение.\n",
    "![](Screenshot_7_2_6.png)"
   ]
  },
  {
   "cell_type": "code",
   "execution_count": 114,
   "metadata": {},
   "outputs": [
    {
     "name": "stdout",
     "output_type": "stream",
     "text": [
      "-9.51619735392994e-16\n",
      "2 3\n"
     ]
    }
   ],
   "source": [
    "a = np.array([[1,2,3],[4,5,6],[7,8,9]])\n",
    "b = np.array([[2,5,11]])\n",
    "\n",
    "#посчитаем определитель матрицы и ранги\n",
    "print(np.linalg.det(a))\n",
    "c = np.concatenate((a,b.T), axis=1)\n",
    "print(np.linalg.matrix_rank(a), np.linalg.matrix_rank(c))"
   ]
  },
  {
   "cell_type": "markdown",
   "metadata": {},
   "source": [
    "#### Через QR разложение"
   ]
  },
  {
   "cell_type": "code",
   "execution_count": 115,
   "metadata": {},
   "outputs": [
    {
     "data": {
      "text/plain": [
       "array([[-0.12309149,  0.90453403,  0.40824829],\n",
       "       [-0.49236596,  0.30151134, -0.81649658],\n",
       "       [-0.86164044, -0.30151134,  0.40824829]])"
      ]
     },
     "metadata": {},
     "output_type": "display_data"
    },
    {
     "data": {
      "text/plain": [
       "array([[-8.12403840e+00, -9.60113630e+00, -1.10782342e+01],\n",
       "       [ 0.00000000e+00,  9.04534034e-01,  1.80906807e+00],\n",
       "       [ 0.00000000e+00,  0.00000000e+00, -1.11164740e-15]])"
      ]
     },
     "metadata": {},
     "output_type": "display_data"
    },
    {
     "data": {
      "text/plain": [
       "array([[1., 2., 3.],\n",
       "       [4., 5., 6.],\n",
       "       [7., 8., 9.]])"
      ]
     },
     "metadata": {},
     "output_type": "display_data"
    }
   ],
   "source": [
    "#найдем QR разложение\n",
    "q, r = np.linalg.qr(a)\n",
    "\n",
    "#проверим\n",
    "display(q,r, np.dot(q,r))"
   ]
  },
  {
   "cell_type": "code",
   "execution_count": 116,
   "metadata": {},
   "outputs": [
    {
     "data": {
      "text/plain": [
       "array([[-8.1240384 , -9.6011363 ],\n",
       "       [ 0.        ,  0.90453403]])"
      ]
     },
     "metadata": {},
     "output_type": "display_data"
    },
    {
     "data": {
      "text/plain": [
       "array([[-1.21860576e+01],\n",
       "       [ 8.54871729e-15]])"
      ]
     },
     "metadata": {},
     "output_type": "display_data"
    }
   ],
   "source": [
    "#найдем решение для случая Х2 = 0\n",
    "r1 = r[:2, :2]\n",
    "b1 = np.dot(q.T, b.T)[:2]\n",
    "\n",
    "display(r1, b1)"
   ]
  },
  {
   "cell_type": "code",
   "execution_count": 117,
   "metadata": {},
   "outputs": [
    {
     "data": {
      "text/plain": [
       "array([[1.50000000e+00],\n",
       "       [9.45096256e-15]])"
      ]
     },
     "metadata": {},
     "output_type": "display_data"
    },
    {
     "data": {
      "text/plain": [
       "array([1.5, 0. , 0. ])"
      ]
     },
     "metadata": {},
     "output_type": "display_data"
    }
   ],
   "source": [
    "x1 = np.linalg.solve(r1,b1)\n",
    "\n",
    "#запишем псевдорешение х\n",
    "x = np.append(x1, 0)\n",
    "display(x1, np.round(x,2))"
   ]
  },
  {
   "cell_type": "code",
   "execution_count": 121,
   "metadata": {},
   "outputs": [
    {
     "data": {
      "text/plain": [
       "array([1.50000000e+00, 9.45096256e-15, 0.00000000e+00])"
      ]
     },
     "metadata": {},
     "output_type": "display_data"
    },
    {
     "data": {
      "text/plain": [
       "array([ 1.5,  6. , 10.5])"
      ]
     },
     "metadata": {},
     "output_type": "display_data"
    },
    {
     "data": {
      "text/plain": [
       "1.4999999999999893"
      ]
     },
     "metadata": {},
     "output_type": "display_data"
    },
    {
     "data": {
      "text/plain": [
       "1.2247448713915885"
      ]
     },
     "metadata": {},
     "output_type": "display_data"
    }
   ],
   "source": [
    "#проверим, подставив х\n",
    "display(x, np.dot(a, x), np.linalg.norm(x), np.linalg.norm(np.dot(a, x) - b))"
   ]
  },
  {
   "cell_type": "markdown",
   "metadata": {},
   "source": [
    "**Ответ**<br>\n",
    "x = [1.5, 0, 0]"
   ]
  },
  {
   "cell_type": "markdown",
   "metadata": {},
   "source": [
    "#### Нормальное псевдорешение через минимизацию функции"
   ]
  },
  {
   "cell_type": "code",
   "execution_count": 122,
   "metadata": {},
   "outputs": [],
   "source": [
    "def Q(x,y,z):\n",
    "    return (x**2 + y**2 + z**2)"
   ]
  },
  {
   "cell_type": "markdown",
   "metadata": {},
   "source": [
    "Выразим y и z через х.\n",
    "* Вычтем из третьего уравнения первое, умноженное на 3: 2х + 2y = 5; y = 2.5 - 2x\n",
    "* Вычтем из третьего уравнения первое, умноженное на 4: 3x - 3z = 3; z = x-1"
   ]
  },
  {
   "cell_type": "code",
   "execution_count": 123,
   "metadata": {},
   "outputs": [
    {
     "data": {
      "image/png": "[encoded data removed]",
      "text/plain": [
       "<Figure size 432x288 with 1 Axes>"
      ]
     },
     "metadata": {
      "needs_background": "light"
     },
     "output_type": "display_data"
    }
   ],
   "source": [
    "x = np.linspace(-6,8,101)\n",
    "y = -2 * x + 2.5\n",
    "z = x - 1\n",
    "\n",
    "fig = plt.figure()\n",
    "ax = fig.add_subplot(111)\n",
    "ax.plot(x, Q(x,y,z))\n",
    "plt.show()"
   ]
  },
  {
   "cell_type": "code",
   "execution_count": 124,
   "metadata": {},
   "outputs": [
    {
     "data": {
      "image/png": "[encoded data removed]",
      "text/plain": [
       "<Figure size 432x288 with 1 Axes>"
      ]
     },
     "metadata": {
      "needs_background": "light"
     },
     "output_type": "display_data"
    }
   ],
   "source": [
    "#посмотрим поближе\n",
    "x = np.linspace(-1,3,101)\n",
    "\n",
    "fig = plt.figure()\n",
    "ax = fig.add_subplot(111)\n",
    "ax.plot(x, Q(x,y,z))\n",
    "plt.show()"
   ]
  },
  {
   "cell_type": "markdown",
   "metadata": {},
   "source": [
    "**Значение х, минимизирующее функцию лежит в интервале (0, 2)**<br>\n",
    "\n",
    "**Посмотрим решение через встроенные метод наименьших квадратов**"
   ]
  },
  {
   "cell_type": "code",
   "execution_count": 127,
   "metadata": {},
   "outputs": [
    {
     "data": {
      "text/plain": [
       "array([[ 1.25],\n",
       "       [ 0.5 ],\n",
       "       [-0.25]])"
      ]
     },
     "metadata": {},
     "output_type": "display_data"
    },
    {
     "data": {
      "text/plain": [
       "array([[ 1.5],\n",
       "       [ 6. ],\n",
       "       [10.5]])"
      ]
     },
     "metadata": {},
     "output_type": "display_data"
    },
    {
     "data": {
      "text/plain": [
       "1.3693063937629126"
      ]
     },
     "metadata": {},
     "output_type": "display_data"
    },
    {
     "data": {
      "text/plain": [
       "1.224744871391589"
      ]
     },
     "metadata": {},
     "output_type": "display_data"
    }
   ],
   "source": [
    "x, res, rank, s = np.linalg.lstsq(a,b.T, rcond=None)\n",
    "display(x, np.dot(a, x), np.linalg.norm(x), np.linalg.norm(np.dot(a, x) - b.T))"
   ]
  }
 ],
 "metadata": {
  "kernelspec": {
   "display_name": "Python 3",
   "language": "python",
   "name": "python3"
  },
  "language_info": {
   "codemirror_mode": {
    "name": "ipython",
    "version": 3
   },
   "file_extension": ".py",
   "mimetype": "text/x-python",
   "name": "python",
   "nbconvert_exporter": "python",
   "pygments_lexer": "ipython3",
   "version": "3.7.5"
  }
 },
 "nbformat": 4,
 "nbformat_minor": 2
}
