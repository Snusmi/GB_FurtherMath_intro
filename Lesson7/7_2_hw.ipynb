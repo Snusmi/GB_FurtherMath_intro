{
  "nbformat": 4,
  "nbformat_minor": 0,
  "metadata": {
    "kernelspec": {
      "display_name": "Python 3",
      "language": "python",
      "name": "python3"
    },
    "language_info": {
      "codemirror_mode": {
        "name": "ipython",
        "version": 3
      },
      "file_extension": ".py",
      "mimetype": "text/x-python",
      "name": "python",
      "nbconvert_exporter": "python",
      "pygments_lexer": "ipython3",
      "version": "3.6.0"
    },
    "colab": {
      "name": "Копия 6-hw.ipynb",
      "provenance": []
    }
  },
  "cells": [
    {
      "cell_type": "markdown",
      "metadata": {
        "collapsed": true,
        "id": "b6i_O6bVajkg",
        "colab_type": "text"
      },
      "source": [
        "## Системы линейных алгебраических уравнений (СЛАУ) "
      ]
    },
    {
      "cell_type": "code",
      "metadata": {
        "id": "NPOb6RQpajkm",
        "colab_type": "code",
        "colab": {}
      },
      "source": [
        "import numpy as np\n",
        "import matplotlib.pyplot as plt"
      ],
      "execution_count": 0,
      "outputs": []
    },
    {
      "cell_type": "markdown",
      "metadata": {
        "id": "owavAXn0ajk6",
        "colab_type": "text"
      },
      "source": [
        "### 6.1"
      ]
    },
    {
      "cell_type": "code",
      "metadata": {
        "id": "TrC9G0WIajk9",
        "colab_type": "code",
        "outputId": "c755d883-c350-43c1-e6ba-de457f17592e",
        "colab": {}
      },
      "source": [
        "A = np.array([[1, 2, 3], [4, 0, 6], [7, 8, 9]], float)\n",
        "B = np.array([12, 2, 1], float)\n",
        "x = np.linalg.solve(A, B)\n",
        "print(x)"
      ],
      "execution_count": 0,
      "outputs": [
        {
          "output_type": "stream",
          "text": [
            "[-9.2         0.9         6.46666667]\n"
          ],
          "name": "stdout"
        }
      ]
    },
    {
      "cell_type": "code",
      "metadata": {
        "id": "ryoynKwNajlU",
        "colab_type": "code",
        "outputId": "610ccb4f-e0c0-427f-c23c-9569fedf3390",
        "colab": {}
      },
      "source": [
        "print(np.dot(A, x), B)"
      ],
      "execution_count": 0,
      "outputs": [
        {
          "output_type": "stream",
          "text": [
            "[ 12.   2.   1.] [ 12.   2.   1.]\n"
          ],
          "name": "stdout"
        }
      ]
    },
    {
      "cell_type": "markdown",
      "metadata": {
        "id": "VImemVmLajle",
        "colab_type": "text"
      },
      "source": [
        "### 6.2\n",
        "## $x + 2y - z = 1$\n",
        "## $3x - 4y = 7$\n",
        "## $8x - 5y +2z = 12$\n",
        "## $2x - 5z = 7$\n",
        "## $11x + 4y - 7z= 15$"
      ]
    },
    {
      "cell_type": "code",
      "metadata": {
        "id": "74dnMK3Yajlh",
        "colab_type": "code",
        "outputId": "bc239d80-6a7d-45b8-8579-abf2879b0d62",
        "colab": {}
      },
      "source": [
        "A = np.array([[1, 2, -1], [3, -4, 0], [8, -5, 2], [2, 0, -5], [11, 4, -7]])\n",
        "B = np.array([1, 7, 12, 7, 15])\n",
        "np.linalg.matrix_rank(A, 0.0001)"
      ],
      "execution_count": 0,
      "outputs": [
        {
          "output_type": "execute_result",
          "data": {
            "text/plain": [
              "3"
            ]
          },
          "metadata": {
            "tags": []
          },
          "execution_count": 4
        }
      ]
    },
    {
      "cell_type": "code",
      "metadata": {
        "id": "HtCnrcsWajls",
        "colab_type": "code",
        "outputId": "49687afc-1510-4a3f-81f1-1ea1e59502d2",
        "colab": {}
      },
      "source": [
        "np.linalg.lstsq(A, B)"
      ],
      "execution_count": 0,
      "outputs": [
        {
          "output_type": "execute_result",
          "data": {
            "text/plain": [
              "(array([ 1.13919353, -0.90498444, -0.9009803 ]),\n",
              " array([ 0.71523211]),\n",
              " 3,\n",
              " array([ 15.2817306 ,   9.59852942,   3.65197794]))"
            ]
          },
          "metadata": {
            "tags": []
          },
          "execution_count": 5
        }
      ]
    },
    {
      "cell_type": "code",
      "metadata": {
        "id": "LQFc7DPtajl0",
        "colab_type": "code",
        "outputId": "dc3ca984-d9a4-4330-8c0f-851573c98f24",
        "colab": {}
      },
      "source": [
        "x = np.dot(A, [ 1.13919353, -0.90498444, -0.9009803 ]) - B\n",
        "print(x)\n",
        "print(np.linalg.norm(x))"
      ],
      "execution_count": 0,
      "outputs": [
        {
          "output_type": "stream",
          "text": [
            "[-0.76979505  0.03751835 -0.16349016 -0.21671144  0.21805317]\n",
            "0.845713965346\n"
          ],
          "name": "stdout"
        }
      ]
    },
    {
      "cell_type": "code",
      "metadata": {
        "id": "5cBnbm73ajmg",
        "colab_type": "code",
        "outputId": "6f551897-ab93-4905-b947-ab9d448602ad",
        "colab": {}
      },
      "source": [
        "print(np.linalg.norm([ 1.13, -0.9, -0.9 ]))\n",
        "print(np.linalg.norm([ 1.15, -0.95, -0.95 ]))\n"
      ],
      "execution_count": 0,
      "outputs": [
        {
          "output_type": "stream",
          "text": [
            "1.70202820188\n",
            "1.76847391838\n"
          ],
          "name": "stdout"
        }
      ]
    },
    {
      "cell_type": "markdown",
      "metadata": {
        "id": "bl_3SAeAajmn",
        "colab_type": "text"
      },
      "source": [
        "### 6.3"
      ]
    },
    {
      "cell_type": "code",
      "metadata": {
        "id": "2bHDFDUEajmp",
        "colab_type": "code",
        "outputId": "7f5ddc37-bebc-4541-feda-1ad466602857",
        "colab": {}
      },
      "source": [
        "A = np.array([[1, 2, 3], [4, 5, 6], [7, 8, 9]], float)\n",
        "B = np.array([2, 5, 1], float)\n",
        "C = np.array([[1, 2, 3, 2], [4, 5, 6, 5], [7, 8, 9, 1]], float)\n",
        "print(np.linalg.matrix_rank(A, 0.0001))\n",
        "print(np.linalg.matrix_rank(C, 0.0001))\n",
        "np.linalg.solve(A, B)"
      ],
      "execution_count": 0,
      "outputs": [
        {
          "output_type": "stream",
          "text": [
            "2\n",
            "3\n"
          ],
          "name": "stdout"
        },
        {
          "output_type": "execute_result",
          "data": {
            "text/plain": [
              "array([  3.15251974e+16,  -6.30503948e+16,   3.15251974e+16])"
            ]
          },
          "metadata": {
            "tags": []
          },
          "execution_count": 8
        }
      ]
    },
    {
      "cell_type": "code",
      "metadata": {
        "id": "un3KomPwajmw",
        "colab_type": "code",
        "outputId": "e385647d-6b69-44eb-a510-75023944cbf8",
        "colab": {}
      },
      "source": [
        "B = np.array([0, 0, 0], float)\n",
        "print(np.linalg.solve(A, B))\n",
        "C = np.array([[1, 2, 3, 0], [4, 5, 6, 0], [7, 8, 9, 0]], float)\n",
        "print(np.linalg.matrix_rank(A, 0.0001))\n",
        "print(np.linalg.matrix_rank(C, 0.0001))"
      ],
      "execution_count": 0,
      "outputs": [
        {
          "output_type": "stream",
          "text": [
            "[ 0.  0.  0.]\n",
            "2\n",
            "2\n"
          ],
          "name": "stdout"
        }
      ]
    },
    {
      "cell_type": "code",
      "metadata": {
        "id": "L-V6GyBMajm3",
        "colab_type": "code",
        "outputId": "c3ea259f-c253-4c04-bdf8-18f1ec82dfd8",
        "colab": {}
      },
      "source": [
        "# Предположим, что решение х = [1, 1, 1]\n",
        "B = np.array([6, 15, 24], float)\n",
        "x = np.linalg.solve(A, B)\n",
        "print(x)\n",
        "print(np.dot(A, x) - B)"
      ],
      "execution_count": 0,
      "outputs": [
        {
          "output_type": "stream",
          "text": [
            "[ 0.  3.  0.]\n",
            "[ 0.  0.  0.]\n"
          ],
          "name": "stdout"
        }
      ]
    },
    {
      "cell_type": "code",
      "metadata": {
        "id": "MSHsLxn7ajm-",
        "colab_type": "code",
        "outputId": "d8ff57c1-b659-4e75-b174-2ad6a53f14e7",
        "colab": {}
      },
      "source": [
        "print(np.dot(A, np.array([1, 1, 1], float)) - B)\n",
        "C =  np.array([[1, 2, 3, 6], [4, 5, 6, 15], [7, 8, 9, 24]], float)\n",
        "print(np.linalg.matrix_rank(A, 0.0001))\n",
        "print(np.linalg.matrix_rank(C, 0.0001))"
      ],
      "execution_count": 0,
      "outputs": [
        {
          "output_type": "stream",
          "text": [
            "[ 0.  0.  0.]\n",
            "2\n",
            "2\n"
          ],
          "name": "stdout"
        }
      ]
    },
    {
      "cell_type": "markdown",
      "metadata": {
        "id": "TMV6YJHlajnF",
        "colab_type": "text"
      },
      "source": [
        "### 6.4"
      ]
    },
    {
      "cell_type": "code",
      "metadata": {
        "id": "XLpGTCvBajnH",
        "colab_type": "code",
        "outputId": "6a2f6a81-1856-429e-91e5-0fbf954d3bc9",
        "colab": {}
      },
      "source": [
        "A = np.array([[ 1,  2,  3],\n",
        "              [ 2, 16, 21],\n",
        "              [ 4, 28, 73]])\n",
        "np.linalg.det(A)"
      ],
      "execution_count": 0,
      "outputs": [
        {
          "output_type": "execute_result",
          "data": {
            "text/plain": [
              "432.00000000000017"
            ]
          },
          "metadata": {
            "tags": []
          },
          "execution_count": 12
        }
      ]
    },
    {
      "cell_type": "code",
      "metadata": {
        "id": "A_o3ftbMajnr",
        "colab_type": "code",
        "outputId": "7d35ab30-03a7-4182-eb46-1a67158bdc84",
        "colab": {}
      },
      "source": [
        "import scipy \n",
        "import scipy.linalg \n",
        "A = np.array([[1,  2,  3], \n",
        "              [2, 16, 21],\n",
        "              [4, 28, 73]], float)\n",
        "P, L, U = scipy.linalg.lu(A)\n",
        "print(P)\n",
        "print(L)\n",
        "print(U)"
      ],
      "execution_count": 0,
      "outputs": [
        {
          "output_type": "stream",
          "text": [
            "[[ 0.  1.  0.]\n",
            " [ 0.  0.  1.]\n",
            " [ 1.  0.  0.]]\n",
            "[[ 1.    0.    0.  ]\n",
            " [ 0.25  1.    0.  ]\n",
            " [ 0.5  -0.4   1.  ]]\n",
            "[[  4.    28.    73.  ]\n",
            " [  0.    -5.   -15.25]\n",
            " [  0.     0.   -21.6 ]]\n"
          ],
          "name": "stdout"
        }
      ]
    },
    {
      "cell_type": "code",
      "metadata": {
        "id": "AOOgPbXMajoH",
        "colab_type": "code",
        "outputId": "42634de7-f27f-4ce4-ab2c-cb9973eec905",
        "colab": {}
      },
      "source": [
        "print(np.dot(P.transpose(), A))\n",
        "print(np.dot(L, U))\n",
        "print(np.dot(P.transpose(), A) - np.dot(L, U))"
      ],
      "execution_count": 0,
      "outputs": [
        {
          "output_type": "stream",
          "text": [
            "[[  4.  28.  73.]\n",
            " [  1.   2.   3.]\n",
            " [  2.  16.  21.]]\n",
            "[[  4.  28.  73.]\n",
            " [  1.   2.   3.]\n",
            " [  2.  16.  21.]]\n",
            "[[ 0.  0.  0.]\n",
            " [ 0.  0.  0.]\n",
            " [ 0.  0.  0.]]\n"
          ],
          "name": "stdout"
        }
      ]
    },
    {
      "cell_type": "code",
      "metadata": {
        "id": "_V-H0oZrajoO",
        "colab_type": "code",
        "outputId": "30c3733a-365b-4afe-a206-7a12d1ecf722",
        "colab": {}
      },
      "source": [
        "B = np.array([4, -7, 1])\n",
        "x = np.linalg.solve(A, B)\n",
        "print(x)\n",
        "print(np.linalg.norm(np.dot(A, x) - B))"
      ],
      "execution_count": 0,
      "outputs": [
        {
          "output_type": "stream",
          "text": [
            "[ 6.36111111 -1.59722222  0.27777778]\n",
            "1.9860273226e-15\n"
          ],
          "name": "stdout"
        }
      ]
    },
    {
      "cell_type": "markdown",
      "metadata": {
        "id": "V_i9L2Ouajol",
        "colab_type": "text"
      },
      "source": [
        "### 6.5\n",
        "## $x + 2y - z = 1$\n",
        "## $8x - 5y + 2z = 12$\n",
        "## ...\n",
        "## $z = x + 2y - 1$\n",
        "## $y = 10x - 14$"
      ]
    },
    {
      "cell_type": "code",
      "metadata": {
        "id": "t6P29TNMajon",
        "colab_type": "code",
        "outputId": "74839829-0366-496c-d3af-c17a9c696927",
        "colab": {}
      },
      "source": [
        "A = np.array([[1,  2,  -1], \n",
        "              [8, -5, 2]], float)\n",
        "B = np.array([1, 12])\n",
        "np.linalg.lstsq(A, B)"
      ],
      "execution_count": 0,
      "outputs": [
        {
          "output_type": "execute_result",
          "data": {
            "text/plain": [
              "(array([ 1.38191882, -0.18081181,  0.0202952 ]),\n",
              " array([], dtype=float64),\n",
              " 2,\n",
              " array([ 9.65316119,  2.41173777]))"
            ]
          },
          "metadata": {
            "tags": []
          },
          "execution_count": 17
        }
      ]
    },
    {
      "cell_type": "code",
      "metadata": {
        "id": "M1hJyjIrajow",
        "colab_type": "code",
        "outputId": "53c93d3b-786a-44fd-c7af-1c3c3e7a291d",
        "colab": {}
      },
      "source": [
        "def Q(x, y, z):\n",
        "    return (x**2 + y**2 + z**2)\n",
        "\n",
        "x = np.linspace(0, 3, 201)\n",
        "plt.plot(x, Q(x, 10 * x - 14, 21 * x - 29))\n",
        "plt.xlabel('x')\n",
        "plt.ylabel('Q(x)')\n",
        "plt.grid(True)\n",
        "plt.ylim(-100, 1000)\n",
        "plt.plot([1.382,1.382],[-100, 1000], color ='blue', linewidth=0.75, linestyle =\"--\") \n",
        "plt.show()"
      ],
      "execution_count": 0,
      "outputs": [
        {
          "output_type": "display_data",
          "data": {
            "image/png": "[encoded data removed]",
            "text/plain": [
              "<matplotlib.figure.Figure at 0x57cb910>"
            ]
          },
          "metadata": {
            "tags": []
          }
        }
      ]
    },
    {
      "cell_type": "code",
      "metadata": {
        "id": "AkrqQbzjajo3",
        "colab_type": "code",
        "outputId": "e183ecd6-8818-4379-b441-3cb9cfdae13f",
        "colab": {}
      },
      "source": [
        "print(np.dot(A, [ 1.38191882, -0.18081181,  0.0202952 ]))"
      ],
      "execution_count": 0,
      "outputs": [
        {
          "output_type": "stream",
          "text": [
            "[  1.          12.00000001]\n"
          ],
          "name": "stdout"
        }
      ]
    },
    {
      "cell_type": "markdown",
      "metadata": {
        "id": "hCI0TvaCajpA",
        "colab_type": "text"
      },
      "source": [
        "### 6.6"
      ]
    },
    {
      "cell_type": "code",
      "metadata": {
        "id": "F4jfumyPajpP",
        "colab_type": "code",
        "outputId": "11bb7e76-69c3-4d77-8bf8-f34941517e69",
        "colab": {}
      },
      "source": [
        "A = np.array([[1, 2, 3], \n",
        "              [4, 5, 6], \n",
        "              [7, 8, 9]], float)\n",
        "B = np.array([2, 5, 11], float)\n",
        "C =  np.array([[1, 2, 3, 2], [4, 5, 6, 5], [7, 8, 9, 11]], float)\n",
        "print(np.linalg.matrix_rank(A, 0.0001))\n",
        "print(np.linalg.matrix_rank(C, 0.0001))"
      ],
      "execution_count": 0,
      "outputs": [
        {
          "output_type": "stream",
          "text": [
            "2\n",
            "3\n"
          ],
          "name": "stdout"
        }
      ]
    },
    {
      "cell_type": "markdown",
      "metadata": {
        "id": "Rk0EenwhajpX",
        "colab_type": "text"
      },
      "source": [
        "## $x + 2y + 3z = 2$\n",
        "## $4x + 5y + 6z = 5$\n",
        "## $7x + 8y + 9z = 11$"
      ]
    },
    {
      "cell_type": "code",
      "metadata": {
        "id": "mxwYKkAdajpa",
        "colab_type": "code",
        "outputId": "da213c58-8f1c-421b-c6ad-dc416fa918b4",
        "colab": {}
      },
      "source": [
        "Q, R = np.linalg.qr(A)\n",
        "print(Q)\n",
        "print(R)\n",
        "print(np.dot(Q, R))"
      ],
      "execution_count": 0,
      "outputs": [
        {
          "output_type": "stream",
          "text": [
            "[[-0.12309149  0.90453403  0.40824829]\n",
            " [-0.49236596  0.30151134 -0.81649658]\n",
            " [-0.86164044 -0.30151134  0.40824829]]\n",
            "[[ -8.12403840e+00  -9.60113630e+00  -1.10782342e+01]\n",
            " [  0.00000000e+00   9.04534034e-01   1.80906807e+00]\n",
            " [  0.00000000e+00   0.00000000e+00  -8.88178420e-16]]\n",
            "[[ 1.  2.  3.]\n",
            " [ 4.  5.  6.]\n",
            " [ 7.  8.  9.]]\n"
          ],
          "name": "stdout"
        }
      ]
    },
    {
      "cell_type": "code",
      "metadata": {
        "id": "2HSTGkXFajpk",
        "colab_type": "code",
        "outputId": "d0c3a1d2-e9b6-4df5-8635-882dfb40b24b",
        "colab": {}
      },
      "source": [
        "R1 = R[:2, :2]\n",
        "R1"
      ],
      "execution_count": 0,
      "outputs": [
        {
          "output_type": "execute_result",
          "data": {
            "text/plain": [
              "array([[-8.1240384 , -9.6011363 ],\n",
              "       [ 0.        ,  0.90453403]])"
            ]
          },
          "metadata": {
            "tags": []
          },
          "execution_count": 22
        }
      ]
    },
    {
      "cell_type": "code",
      "metadata": {
        "id": "nHctm7a2ajpz",
        "colab_type": "code",
        "outputId": "d0a30fff-2afe-405b-b73c-8a3cf36b04b1",
        "colab": {}
      },
      "source": [
        "B1 = np.dot(np.transpose(Q), B)[:2]\n",
        "B1"
      ],
      "execution_count": 0,
      "outputs": [
        {
          "output_type": "execute_result",
          "data": {
            "text/plain": [
              "array([ -1.21860576e+01,   3.55271368e-15])"
            ]
          },
          "metadata": {
            "tags": []
          },
          "execution_count": 23
        }
      ]
    },
    {
      "cell_type": "code",
      "metadata": {
        "id": "bdm9haXoajp9",
        "colab_type": "code",
        "outputId": "d11fcf31-ffb3-46c2-ff72-a098f1fef53e",
        "colab": {}
      },
      "source": [
        "X1 = np.linalg.solve(R1, B1)\n",
        "print (X1)\n",
        "X = np.append(X1, 0)\n",
        "print (X)\n",
        "np.linalg.norm(X),  np.linalg.norm(np.dot(A, X) - B)  "
      ],
      "execution_count": 0,
      "outputs": [
        {
          "output_type": "stream",
          "text": [
            "[  1.50000000e+00   3.92767275e-15]\n",
            "[  1.50000000e+00   3.92767275e-15   0.00000000e+00]\n"
          ],
          "name": "stdout"
        },
        {
          "output_type": "execute_result",
          "data": {
            "text/plain": [
              "(1.499999999999996, 1.2247448713915889)"
            ]
          },
          "metadata": {
            "tags": []
          },
          "execution_count": 24
        }
      ]
    },
    {
      "cell_type": "code",
      "metadata": {
        "id": "mgXZA17oajqI",
        "colab_type": "code",
        "outputId": "6305b3b8-1691-4ff2-fa63-8b0b364ae9ad",
        "colab": {}
      },
      "source": [
        "np.linalg.lstsq(A, B) "
      ],
      "execution_count": 0,
      "outputs": [
        {
          "output_type": "execute_result",
          "data": {
            "text/plain": [
              "(array([ 1.25,  0.5 , -0.25]),\n",
              " array([], dtype=float64),\n",
              " 2,\n",
              " array([  1.68481034e+01,   1.06836951e+00,   4.41842475e-16]))"
            ]
          },
          "metadata": {
            "tags": []
          },
          "execution_count": 25
        }
      ]
    },
    {
      "cell_type": "code",
      "metadata": {
        "id": "VCbP1Tc9ajqN",
        "colab_type": "code",
        "outputId": "282ea080-da0b-410a-9e62-adb2a188bbe1",
        "colab": {}
      },
      "source": [
        "X = [ 1.25,  0.5 , -0.25]\n",
        "np.linalg.norm(X),  np.linalg.norm(np.dot(A, X) - B) "
      ],
      "execution_count": 0,
      "outputs": [
        {
          "output_type": "execute_result",
          "data": {
            "text/plain": [
              "(1.3693063937629153, 1.2247448713915889)"
            ]
          },
          "metadata": {
            "tags": []
          },
          "execution_count": 26
        }
      ]
    },
    {
      "cell_type": "code",
      "metadata": {
        "id": "UT6SCwMnajqT",
        "colab_type": "code",
        "colab": {}
      },
      "source": [
        ""
      ],
      "execution_count": 0,
      "outputs": []
    }
  ]
}