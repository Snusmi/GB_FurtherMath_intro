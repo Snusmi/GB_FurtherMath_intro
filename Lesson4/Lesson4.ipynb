{
 "cells": [
  {
   "cell_type": "markdown",
   "metadata": {},
   "source": [
    "### 1. Задание (на листочке)\n",
    "Решите уравнение<br>\n",
    "sin(x)/x=0."
   ]
  },
  {
   "cell_type": "markdown",
   "metadata": {},
   "source": [
    "**Решение**<br>\n",
    "Решаем систему:<br>\n",
    "sin(x)=0<br>\n",
    "x<>0<br><br>\n",
    "Ответ: x=n\\*pi, где n принадлежит Z, не включая 0"
   ]
  },
  {
   "cell_type": "markdown",
   "metadata": {},
   "source": [
    "### 2. Задание (на листочке)\n",
    "Даны три прямые y=k1\\*x+b1, y=k2\\*x+b2,, y=k3\\*x+b3. Как узнать, пересекаются они в одной точке или нет?"
   ]
  },
  {
   "cell_type": "markdown",
   "metadata": {},
   "source": []
  },
  {
   "cell_type": "markdown",
   "metadata": {},
   "source": [
    "### 3. Задание (в программе или на листочке)\n",
    "На листе тетради «в линейку» (расстояние между линиями равно а) лежит игла (длиной b). Координаты нижней точки иглы (х,у), игла лежит под углом alfa. Пересекает ли игла линию или нет?"
   ]
  },
  {
   "cell_type": "markdown",
   "metadata": {},
   "source": [
    "**Решение**<br>\n",
    "Нарисовала несколько возможных ситуаций:"
   ]
  },
  {
   "cell_type": "markdown",
   "metadata": {},
   "source": [
    "<img src=\"Lesson4_pic1.jpg\">"
   ]
  },
  {
   "cell_type": "markdown",
   "metadata": {},
   "source": [
    "Нашла длину катетов и координаты верхней точки иглы.<br>\n",
    "n\\*a = ближайшая линия выше верхней точки иглы<br>\n",
    "k\\*a = ближайшая линия ниже нижней точки иглы<br>\n",
    "\n",
    "Условия пересечения/не пересечения:\n",
    "* Если alpha = 0, то игла не пересекает линию\n",
    "* Если alpha = pi/2 и b>=a, то игла пересекает линию\n",
    "* Если b\\*sin(alpha) >= a, то игла пересекает линию (длина катета, параллельного y)\n",
    "* Если 0 < alpha <= pi/2 и расстояние от нижней точки до нижней линии + расстояние от верхней точки до верхней линии + b\\*sin(alpha) <= a, то игла не пересекает линию (второй случай на рисунке)\n",
    "* Если 0 < alpha <= pi/2 и расстояние от нижней точки до нижней линии + расстояние от верхней точки до верхней линии + b\\*sin(alpha) > a, то игла пересекает линию (первый и четверый случай на рисунке)"
   ]
  },
  {
   "cell_type": "markdown",
   "metadata": {},
   "source": [
    "### 4. Задание** (задание делать по желанию)<br>\n",
    "Решите аналитически и потом численно (в программе) уравнение, зависящее от параметра а: <br>\n",
    "sin(а\\*x)=0<br>\n",
    "при условии: 0.01<a<0.02, 100<х<500.<br>\n",
    "Т.е. надо найти решение х как функцию параметра а - построить график x=x(а).<br>\n",
    "Если численным методом не получается найти все ветви решения x(а), то отыщите хотя бы одну.<br>"
   ]
  },
  {
   "cell_type": "markdown",
   "metadata": {},
   "source": [
    "<img src=\"Lesson4_task_1762.png\">\n",
    "<img src=\"Lesson4_task_1764.png\">"
   ]
  },
  {
   "cell_type": "markdown",
   "metadata": {},
   "source": [
    "**Решение**"
   ]
  },
  {
   "cell_type": "markdown",
   "metadata": {},
   "source": []
  },
  {
   "cell_type": "markdown",
   "metadata": {},
   "source": [
    "<img src=\"Lesson4_task_5.png\">"
   ]
  },
  {
   "cell_type": "markdown",
   "metadata": {},
   "source": [
    "**Решение**"
   ]
  },
  {
   "cell_type": "markdown",
   "metadata": {},
   "source": []
  }
 ],
 "metadata": {
  "kernelspec": {
   "display_name": "Python 3",
   "language": "python",
   "name": "python3"
  },
  "language_info": {
   "codemirror_mode": {
    "name": "ipython",
    "version": 3
   },
   "file_extension": ".py",
   "mimetype": "text/x-python",
   "name": "python",
   "nbconvert_exporter": "python",
   "pygments_lexer": "ipython3",
   "version": "3.7.5"
  }
 },
 "nbformat": 4,
 "nbformat_minor": 2
}
