{
 "cells": [
  {
   "cell_type": "markdown",
   "metadata": {},
   "source": [
    "### 1. Напишите код, моделирующий выпадение поля в рулетке (с учетом поля зеро)."
   ]
  },
  {
   "cell_type": "markdown",
   "metadata": {},
   "source": [
    "**Решение**<br>\n",
    "Числа на колесе рулетки, если считать от зеро по часовой стрелке, идут в следующем порядке: 0, 32, 15, 19, 4, 21, 2, 25, 17, 34, 6, 27, 13, 36, 11, 30, 8, 23, 10, 5, 24, 16, 33, 1, 20, 14, 31, 9, 22,18, 29, 7, 28, 12, 35, 3, 26. Ячейки, пронумерованные числами от 1 до 36, окрашены в чёрный и красный цвета. Номера расположены не по порядку, хотя цвета ячеек строго чередуются, начиная с 1 — красного цвета. Ячейка, обозначенная цифрой 0, окрашена в зелёный цвет и называется зеро. (с)"
   ]
  },
  {
   "cell_type": "code",
   "execution_count": 32,
   "metadata": {},
   "outputs": [],
   "source": [
    "import numpy as np\n",
    "import pandas as pd\n",
    "\n",
    "def roulette_color(n):\n",
    "    # n - number of throws\n",
    "    # returns data of throw-color and number of reds, blacks and zeros\n",
    "    throws = np.random.randint(0,38,n)\n",
    "    colors=[]\n",
    "    reds = 0\n",
    "    blacks = 0\n",
    "    zeros = 0\n",
    "    for i in range(n):\n",
    "        if throws[i] in (1,14,9,18,7,12,3,32,19,21,25,34,27,36,30,23,5,16):\n",
    "            colors.append(\"красное\")\n",
    "            reds +=1\n",
    "        elif throws[i] == 0:\n",
    "            colors.append(\"зеро\")\n",
    "            zeros +=1\n",
    "        else:\n",
    "            colors.append(\"черное\")\n",
    "            blacks +=1\n",
    "    dataset = pd.DataFrame({'Броски': throws, 'Цвета': colors})\n",
    "    return dataset, reds, blacks, zeros"
   ]
  },
  {
   "cell_type": "code",
   "execution_count": 33,
   "metadata": {},
   "outputs": [
    {
     "data": {
      "text/html": [
       "<div>\n",
       "<style scoped>\n",
       "    .dataframe tbody tr th:only-of-type {\n",
       "        vertical-align: middle;\n",
       "    }\n",
       "\n",
       "    .dataframe tbody tr th {\n",
       "        vertical-align: top;\n",
       "    }\n",
       "\n",
       "    .dataframe thead th {\n",
       "        text-align: right;\n",
       "    }\n",
       "</style>\n",
       "<table border=\"1\" class=\"dataframe\">\n",
       "  <thead>\n",
       "    <tr style=\"text-align: right;\">\n",
       "      <th></th>\n",
       "      <th>Броски</th>\n",
       "      <th>Цвета</th>\n",
       "    </tr>\n",
       "  </thead>\n",
       "  <tbody>\n",
       "    <tr>\n",
       "      <th>0</th>\n",
       "      <td>13</td>\n",
       "      <td>черное</td>\n",
       "    </tr>\n",
       "    <tr>\n",
       "      <th>1</th>\n",
       "      <td>18</td>\n",
       "      <td>красное</td>\n",
       "    </tr>\n",
       "    <tr>\n",
       "      <th>2</th>\n",
       "      <td>7</td>\n",
       "      <td>красное</td>\n",
       "    </tr>\n",
       "    <tr>\n",
       "      <th>3</th>\n",
       "      <td>4</td>\n",
       "      <td>черное</td>\n",
       "    </tr>\n",
       "    <tr>\n",
       "      <th>4</th>\n",
       "      <td>7</td>\n",
       "      <td>красное</td>\n",
       "    </tr>\n",
       "  </tbody>\n",
       "</table>\n",
       "</div>"
      ],
      "text/plain": [
       "   Броски    Цвета\n",
       "0      13   черное\n",
       "1      18  красное\n",
       "2       7  красное\n",
       "3       4   черное\n",
       "4       7  красное"
      ]
     },
     "metadata": {},
     "output_type": "display_data"
    },
    {
     "name": "stdout",
     "output_type": "stream",
     "text": [
      "Доля красных:  0.473\n",
      "Доля черных:  0.499\n",
      "Доля зеро:  0.028\n"
     ]
    }
   ],
   "source": [
    "n=1000\n",
    "data, reds, blacks, zeros = roulette_color(n)\n",
    "display(data.head())\n",
    "print(\"Доля красных: \", reds/n)\n",
    "print(\"Доля черных: \", blacks/n)\n",
    "print(\"Доля зеро: \", zeros/n)"
   ]
  },
  {
   "cell_type": "markdown",
   "metadata": {},
   "source": [
    "### 2.1 Напишите код, проверяющий любую из теорем сложения или умножения вероятности на примере рулетки или подбрасывания монетки"
   ]
  },
  {
   "cell_type": "markdown",
   "metadata": {},
   "source": [
    "**Решение**<br>\n",
    "Проверим умножение на примере:\n",
    "* Подбрасываются две монеты. Какова вероятность, что за одновременно выпадет орел и решка?<br>\n",
    "События независимы. Вероятность выпадения орла или решки = 1/2. Вероятность, что на двух подброшенных монетах одновременно выпадет орел и орел = 1/2 \\* 1/2 = 1/4<br>\n",
    "Это можно проверить так:<br>\n",
    "При подбрасывании двух монет возможны следующие 4 исхода:\n",
    "* Орел + орел\n",
    "* Орел + решка\n",
    "* Решка + решка\n",
    "* Решка + орел<br>\n",
    "Соответственно, вероятность одного из 4х исходов = 1/4"
   ]
  },
  {
   "cell_type": "markdown",
   "metadata": {},
   "source": [
    "### 2.2 Сгенерируйте десять выборок случайных чисел х0, …, х9 и постройте гистограмму распределения случайной суммы х0+х1+ …+ х9"
   ]
  },
  {
   "cell_type": "code",
   "execution_count": 34,
   "metadata": {},
   "outputs": [
    {
     "name": "stdout",
     "output_type": "stream",
     "text": [
      "[9. 5. 8. 0. 3. 8. 6. 7. 5. 7. 6. 8. 5. 8. 4. 0. 5. 3. 4. 7. 0. 1. 8. 2.\n",
      " 2. 3. 9. 1. 9. 8. 5. 8. 6. 9. 5. 5. 8. 3. 2. 3. 6. 2. 2. 8. 8. 4. 1. 9.\n",
      " 3. 8. 2. 1. 8. 3. 5. 0. 2. 2. 0. 0. 0. 3. 5. 6. 9. 9. 8. 7. 6. 3. 7. 6.\n",
      " 2. 0. 2. 0. 3. 8. 2. 8. 2. 0. 4. 0. 5. 7. 3. 8. 8. 7. 7. 0. 8. 8. 6. 9.\n",
      " 2. 6. 2. 4.]\n",
      "[49. 37. 50. 42. 53. 55. 55. 40. 37. 40. 44. 49. 43. 56. 45. 42. 42. 60.\n",
      " 37. 48. 39. 46. 47. 47. 48. 45. 45. 46. 48. 61. 35. 52. 38. 43. 37. 51.\n",
      " 69. 46. 48. 28. 54. 36. 40. 42. 59. 50. 31. 59. 29. 45. 38. 45. 57. 32.\n",
      " 30. 50. 47. 43. 46. 36. 50. 24. 45. 49. 60. 56. 49. 51. 42. 37. 35. 56.\n",
      " 42. 42. 35. 36. 43. 55. 36. 52. 46. 44. 36. 43. 32. 48. 51. 52. 41. 46.\n",
      " 54. 46. 48. 35. 52. 58. 39. 43. 46. 41.]\n"
     ]
    }
   ],
   "source": [
    "import matplotlib.pyplot as plt\n",
    "import numpy as np\n",
    "from matplotlib import colors\n",
    "from matplotlib.ticker import PercentFormatter\n",
    "%matplotlib inline\n",
    "\n",
    "\n",
    "x = np.empty([10, 100])\n",
    "sum_x = np.empty([1, 100])\n",
    "for i in range(10):\n",
    "    x[i] = np.random.randint(0,10,100)\n",
    "\n",
    "print(x[0])\n",
    "sum_x=np.sum(x, axis=0)\n",
    "print(sum_x)"
   ]
  },
  {
   "cell_type": "code",
   "execution_count": 35,
   "metadata": {},
   "outputs": [
    {
     "data": {
      "image/png": "[encoded data removed]",
      "text/plain": [
       "<Figure size 432x288 with 1 Axes>"
      ]
     },
     "metadata": {
      "needs_background": "light"
     },
     "output_type": "display_data"
    }
   ],
   "source": [
    "plt.hist(sum_x, bins=7)\n",
    "plt.gca().set(title='Sum frequency', ylabel='Frequency');"
   ]
  },
  {
   "cell_type": "markdown",
   "metadata": {},
   "source": [
    "### 3.1\tДополните код Монте-Карло последовательности независимых испытаний расчетом соответствующих вероятностей (через биномиальное распределение) и сравните результаты"
   ]
  },
  {
   "cell_type": "code",
   "execution_count": 36,
   "metadata": {},
   "outputs": [
    {
     "name": "stdout",
     "output_type": "stream",
     "text": [
      "37630 100000 0.3763\n"
     ]
    }
   ],
   "source": [
    "import numpy as np\n",
    "import math\n",
    "\n",
    "def coin_drops(drops, success, n):\n",
    "    \"\"\"\n",
    "    drops - число бросков\n",
    "    success - число удачных исходов\n",
    "    n - число наблюдений\n",
    "    \"\"\"\n",
    "    k = 0\n",
    "    x = np.empty([drops,n])\n",
    "\n",
    "    for i in range(drops):\n",
    "        x[i] = np.random.randint(0,2,n)\n",
    "    \n",
    "    sum_x=np.sum(x, axis=0)\n",
    "\n",
    "    for i in range(0, n):\n",
    "        if sum_x[i] == success:\n",
    "            k = k + 1\n",
    "    return k\n",
    "\n",
    "n = 100000\n",
    "success = 2\n",
    "drops = 4\n",
    "\n",
    "k = coin_drops(drops, success, n)\n",
    "print(k,n,k/n)"
   ]
  },
  {
   "cell_type": "code",
   "execution_count": 37,
   "metadata": {},
   "outputs": [
    {
     "name": "stdout",
     "output_type": "stream",
     "text": [
      "0.375\n"
     ]
    }
   ],
   "source": [
    "def coin_probability(success, drops):\n",
    "    c = math.factorial(drops)/(math.factorial(success)*math.factorial(drops-success))\n",
    "    return c / (2**drops)\n",
    "\n",
    "p = coin_probability(success, drops)\n",
    "print(p) "
   ]
  },
  {
   "cell_type": "markdown",
   "metadata": {},
   "source": [
    "**Сделаем 5 бросков и посчитаем вероятность выпадения 3х орлов. Число наблюдений - 100 000**"
   ]
  },
  {
   "cell_type": "code",
   "execution_count": 38,
   "metadata": {},
   "outputs": [
    {
     "name": "stdout",
     "output_type": "stream",
     "text": [
      "31171 100000 0.31171\n",
      "0.3125\n"
     ]
    }
   ],
   "source": [
    "n = 100000\n",
    "success = 3\n",
    "drops = 5\n",
    "\n",
    "k = coin_drops(drops, success, n)\n",
    "print(k,n,k/n)\n",
    "\n",
    "p = coin_probability(success, drops)\n",
    "print(p) "
   ]
  },
  {
   "cell_type": "markdown",
   "metadata": {},
   "source": [
    "### 4. Из урока по комбинаторике повторите расчеты, сгенерировав возможные варианты перестановок для других значений n и k"
   ]
  },
  {
   "cell_type": "code",
   "execution_count": 39,
   "metadata": {},
   "outputs": [],
   "source": [
    "import itertools\n",
    "\n",
    "def premutations(n,k):\n",
    "    for p in itertools.permutations(n,k):\n",
    "        print(\"\".join(str(x) for x in p))\n",
    "\n",
    "def combinations(n,k):\n",
    "    for p in itertools.combinations(n,k):\n",
    "        print(\"\".join(p))\n",
    "\n",
    "\n",
    "def product(n,k):\n",
    "    for p in itertools.product(n,repeat = k):\n",
    "        print(\"\".join(p))\n",
    "\n",
    "n = \"abc\"\n",
    "k = 2"
   ]
  },
  {
   "cell_type": "code",
   "execution_count": 40,
   "metadata": {},
   "outputs": [
    {
     "name": "stdout",
     "output_type": "stream",
     "text": [
      "ab\n",
      "ac\n",
      "ba\n",
      "bc\n",
      "ca\n",
      "cb\n",
      "None\n"
     ]
    }
   ],
   "source": [
    "print(premutations(n,k))"
   ]
  },
  {
   "cell_type": "code",
   "execution_count": 41,
   "metadata": {},
   "outputs": [
    {
     "name": "stdout",
     "output_type": "stream",
     "text": [
      "ab\n",
      "ac\n",
      "bc\n",
      "None\n"
     ]
    }
   ],
   "source": [
    "print(combinations(n,k))"
   ]
  },
  {
   "cell_type": "code",
   "execution_count": 42,
   "metadata": {},
   "outputs": [
    {
     "name": "stdout",
     "output_type": "stream",
     "text": [
      "aa\n",
      "ab\n",
      "ac\n",
      "ba\n",
      "bb\n",
      "bc\n",
      "ca\n",
      "cb\n",
      "cc\n",
      "None\n"
     ]
    }
   ],
   "source": [
    "print(product(n,k))"
   ]
  },
  {
   "cell_type": "markdown",
   "metadata": {},
   "source": [
    "### 5. Дополните код расчетом коэффициента корреляции x и y по формуле"
   ]
  },
  {
   "cell_type": "markdown",
   "metadata": {},
   "source": [
    "<img src=\"Lesson5_pic1.png\">"
   ]
  },
  {
   "cell_type": "code",
   "execution_count": 51,
   "metadata": {},
   "outputs": [
    {
     "name": "stdout",
     "output_type": "stream",
     "text": [
      "Параметры а и b по формуле:\n",
      " 0.3941454648675017 0.3163030480810451\n",
      "\n",
      "Параметры а и b через функцию vstack:\n",
      " 0.39414546486750207 0.31630304808104487\n",
      "\n",
      "Коэффициент корреляции по формуле:\n",
      " 0.477490983739864\n",
      "\n",
      "Коэффициент корреляции через функцию corrcoef:\n",
      " [[1.         0.47749098]\n",
      " [0.47749098 1.        ]]\n"
     ]
    },
    {
     "data": {
      "image/png": "[encoded data removed]",
      "text/plain": [
       "<Figure size 432x288 with 1 Axes>"
      ]
     },
     "metadata": {
      "needs_background": "light"
     },
     "output_type": "display_data"
    }
   ],
   "source": [
    "n = 100\n",
    "r = 0.3\n",
    "x = np.random.rand(n)\n",
    "y = r*x + (1-r)*np.random.rand(n)\n",
    "\n",
    "plt.plot(x,y, \"o\")\n",
    "plt.xlabel(\"x\")\n",
    "plt.ylabel(\"y\")\n",
    "plt.grid(True)\n",
    "\n",
    "a = (np.sum(x)*np.sum(y) - n*np.sum(x*y)) / (np.sum(x)*np.sum(x) - n*np.sum(x*x))\n",
    "b = (np.sum(y) - a*np.sum(x)) / n\n",
    "\n",
    "A = np.vstack([x, np.ones(len(x))]).T\n",
    "a1,b1 = np.linalg.lstsq(A,y, rcond=None)[0]\n",
    "print(\"Параметры а и b по формуле:\\n\",a,b)\n",
    "print(\"\\nПараметры а и b через функцию vstack:\\n\",a1,b1)\n",
    "\n",
    "c = np.sum((x - np.mean(x))*(y - np.mean(y)))/np.sqrt(np.sum((x - np.mean(x))**2) * np.sum((y - np.mean(y))**2))\n",
    "c1 = np.corrcoef(x,y)\n",
    "print(\"\\nКоэффициент корреляции по формуле:\\n\",c)\n",
    "print(\"\\nКоэффициент корреляции через функцию corrcoef:\\n\",c1)\n",
    "\n",
    "plt.plot([0,1],[b, a+b])\n",
    "plt.show()"
   ]
  }
 ],
 "metadata": {
  "kernelspec": {
   "display_name": "Python 3",
   "language": "python",
   "name": "python3"
  },
  "language_info": {
   "codemirror_mode": {
    "name": "ipython",
    "version": 3
   },
   "file_extension": ".py",
   "mimetype": "text/x-python",
   "name": "python",
   "nbconvert_exporter": "python",
   "pygments_lexer": "ipython3",
   "version": "3.7.5"
  }
 },
 "nbformat": 4,
 "nbformat_minor": 2
}
